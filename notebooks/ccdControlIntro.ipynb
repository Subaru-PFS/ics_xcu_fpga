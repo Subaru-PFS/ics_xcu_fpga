{
 "metadata": {
  "name": ""
 },
 "nbformat": 3,
 "nbformat_minor": 0,
 "worksheets": [
  {
   "cells": [
    {
     "cell_type": "markdown",
     "metadata": {},
     "source": [
      "## CCD notebook\n",
      "\n",
      "This notebook is intended to provide a working and interactive example of how to control and readout the detectors through the FPGA. You can make a copy of the notebook and edit it as you see fit. \n",
      "\n",
      "Some essentials:\n",
      "\n",
      " - Shift-Enter or Ctrl-Enter run the cell you are in.\n",
      " - Ctrl-m b creates a new one just below the one you are in.\n",
      " - Ctrl-m d deletes a cell\n",
      " - Ctrl-m h shows the rest of the keyboard shortcuts\n",
      " - the Help/Notebook menu link gives more help. \n",
      " \n",
      "In general you want to run some initialization cells, then mess around in your own. Once you have routines of general interest they can be moved into project python files.\n"
     ]
    },
    {
     "cell_type": "markdown",
     "metadata": {},
     "source": [
      "### Initialization\n",
      "\n",
      "Just once, when loading this notebook (or running such a program in ipython or anywhere else), `import` the python modules. We currently have two:\n",
      "\n",
      "  - `fpga`, for clock definition and detector readout.\n",
      "  - `fee`, for FEE control of the voltages, etc.\n",
      "  - `ccdFuncs` for some utility routines (per-row stats, etc)\n",
      "  \n",
      "I also import some external modules now, so that I can run FFTs, etc."
     ]
    },
    {
     "cell_type": "code",
     "collapsed": false,
     "input": [
      "import fpga\n",
      "import fee\n",
      "import fpga.ccdFuncs as ccdFuncs\n",
      "\n",
      "import scipy\n",
      "import scipy.optimize as opt"
     ],
     "language": "python",
     "metadata": {},
     "outputs": [],
     "prompt_number": null
    },
    {
     "cell_type": "markdown",
     "metadata": {},
     "source": [
      "Also just once (usually), create instances of the device objects. In both cases, the device is connected to and slightly set up.\n",
      "\n",
      "The FEE class is currently pretty crude: you can send raw commands, or request basic initialization. To wit:\n",
      "\n",
      " - `f.powerUp()` enables the power supplies and sets the voltages to the `read` state.\n",
      " - `f.raw(cmdStr)` sends a raw command string (without the ~ and NL) \n",
      " \n",
      "The FEE currently spits out some I/O-level diagnostics, which seem to show up in pink.\n"
     ]
    },
    {
     "cell_type": "code",
     "collapsed": false,
     "input": [
      "ccd = fpga.CCD()"
     ],
     "language": "python",
     "metadata": {},
     "outputs": [],
     "prompt_number": null
    },
    {
     "cell_type": "code",
     "collapsed": false,
     "input": [
      "f = fee.FeeControl()"
     ],
     "language": "python",
     "metadata": {},
     "outputs": [],
     "prompt_number": null
    },
    {
     "cell_type": "code",
     "collapsed": false,
     "input": [
      "f.powerUp()\n",
      "print f.raw('gv,3V3M')"
     ],
     "language": "python",
     "metadata": {},
     "outputs": [],
     "prompt_number": null
    },
    {
     "cell_type": "markdown",
     "metadata": {},
     "source": [
      "### Basic operations\n",
      "\n",
      "The `CCD` class has essentially one routine: `readImage()`. The implementation of the interface has one underlying readout routine in C -- `readLine()`, which reads a single row from the FPGA and returns it in the raw, FPGA-native pixel ordering. The python (`cython`, to be precise) readout routine then reformats that row into the detector-native ordering and adds it to an image.\n",
      "\n",
      "There are a number of options to the ccd.readImage() routine -- type `ccd.readImage?` in a cell and execute it to get the current documentation. Here, we will add one, just to specify a smaller number of rows than the default. We also assign the returned image to a variable for later use.\n",
      "\n",
      "Note that by default, each `readImage()` call also generates a new FITS file under `/data/pfs/`."
     ]
    },
    {
     "cell_type": "code",
     "collapsed": false,
     "input": [
      "im = ccd.readImage(nrows=200)"
     ],
     "language": "python",
     "metadata": {},
     "outputs": [],
     "prompt_number": null
    },
    {
     "cell_type": "markdown",
     "metadata": {},
     "source": [
      "What's in the image? This notebook is configured to embed graphics, so we can look at a full image or single row:"
     ]
    },
    {
     "cell_type": "code",
     "collapsed": false,
     "input": [
      "imshow(im)\n",
      "show()\n",
      "plot(im[100,:])\n",
      "show()"
     ],
     "language": "python",
     "metadata": {},
     "outputs": [],
     "prompt_number": null
    },
    {
     "cell_type": "markdown",
     "metadata": {},
     "source": [
      "You can define new functions and variable for later use. These can be iteratively improved: re-running the cell with the definition will override with the new code. In this case we grab some array masks so that we can examine individual amps taken from an image. The python array indexing idiom is:\n",
      "\n",
      "  - 1-d : `array[x]`\n",
      "  - 1-d sub : `array[start:end]` or `array[start:]` or `array[:end]`. `array[:]` is the same as `array`\n",
      "  - 2-d : `array[x, y]` or `array[x, start:]` or `array[startx:endx, :endy]`\n"
     ]
    },
    {
     "cell_type": "code",
     "collapsed": false,
     "input": [
      "def normed(arr):\n",
      "    \"\"\" Return an array with its mean value subtracted. Not robust. \"\"\"\n",
      "    return arr - mean(arr)\n",
      "\n",
      "amp1idx = ccd.ampidx(1)\n",
      "amp6idx = ccd.ampidx(6)\n"
     ],
     "language": "python",
     "metadata": {},
     "outputs": [],
     "prompt_number": null
    },
    {
     "cell_type": "code",
     "collapsed": false,
     "input": [
      "# Request a wider plot\n",
      "figure(figsize=(10,4))\n",
      "\n",
      "plot(normed(im[10,amp1idx])) # 10th row, amp1\n",
      "plot(normed(im[10,amp6idx])) # 10th row, amp6\n"
     ],
     "language": "python",
     "metadata": {},
     "outputs": [],
     "prompt_number": null
    },
    {
     "cell_type": "code",
     "collapsed": false,
     "input": [
      "figure(figsize=(10,4))\n",
      "\n",
      "# Plot the first 100 pixels of row 10 of the amp1 data\n",
      "plot(normed(im[10,amp1idx][:100]),'+-') # The '+-' plots both lines and +-marks at the points"
     ],
     "language": "python",
     "metadata": {},
     "outputs": [],
     "prompt_number": null
    },
    {
     "cell_type": "markdown",
     "metadata": {},
     "source": [
      "The FEE object also lets you set offsets, etc. So we can pull the quadrants levels around a bit. Currently, the most direct method is to send raw command strings. In this case I'll crudely normalize the amp levels a bit, by setting (all) the +V offsets to 0 and (all) the -V offsets to pull the level."
     ]
    },
    {
     "cell_type": "code",
     "collapsed": false,
     "input": [
      "for det in range(2):\n",
      "    for amp in range(4):\n",
      "        f.raw('so,%dp,ch%d,0.0' % (amp, det))\n",
      "\n",
      "f.raw('so,0n,ch0,0.32')\n",
      "f.raw('so,1n,ch0,0.35')\n",
      "f.raw('so,2n,ch0,0.35')\n",
      "f.raw('so,3n,ch0,0.35')\n",
      "\n",
      "f.raw('so,0n,ch1,0.31')\n",
      "f.raw('so,1n,ch1,0.35')\n",
      "f.raw('so,2n,ch1,0.35')\n",
      "f.raw('so,3n,ch1,0.3')\n"
     ],
     "language": "python",
     "metadata": {},
     "outputs": [],
     "prompt_number": null
    },
    {
     "cell_type": "markdown",
     "metadata": {},
     "source": [
      "### Development operations\n",
      "\n",
      "Assuming that the BEE and FEE and FPGA are configured and working (as above), you can iteratively operate, change, inspect. The following few cells give an example -- you can rerun, edit, rerun, view, etc. \n",
      "\n",
      "The ccd.readImage() routine lets you pass in functions to be called after each line is read. The default callback function simply prints out a note every 100 lines, plus details for any failed lines (i.e. CRC errors).\n",
      "\n",
      "I have been putting new ones in the ccdFuncs module. Here is an example which prints mean & stddev for selected amps, configured to average over 50 rows and print each 50 rows. Change nrows=500 to nrows=100, or take it out to get a default full frame. This has `doSave=False` to stop images from being saved -- remove that, or set `True` to `False` if you want files.\n"
     ]
    },
    {
     "cell_type": "code",
     "collapsed": false,
     "input": [
      "argDict = dict(everyNRows=50, ampList=(0,1,2,3,4), ccd=ccd)\n",
      "im2 = ccd.readImage(nrows=500, rowFunc=ccdFuncs.rowStats, rowFuncArgs=argDict, doSave=False)"
     ],
     "language": "python",
     "metadata": {},
     "outputs": [],
     "prompt_number": null
    },
    {
     "cell_type": "code",
     "collapsed": false,
     "input": [
      "figure(figsize=(10,4))\n",
      "amp6seg = im[50,amp6idx]\n",
      "freqs, fft, peak_ii = ccdFuncs.plotTopPeriods(amp6seg, topN=3)\n",
      "\n",
      "figure(figsize=(10,4))\n",
      "amp1seg = im[50,amp1idx]\n",
      "freqs, fft, peak_ii = ccdFuncs.plotTopPeriods(amp1seg, topN=3)\n",
      "\n",
      "figure(figsize=(10,4))\n",
      "plot(normed(amp1seg[:100]),'+-')"
     ],
     "language": "python",
     "metadata": {},
     "outputs": [],
     "prompt_number": null
    },
    {
     "cell_type": "code",
     "collapsed": false,
     "input": [],
     "language": "python",
     "metadata": {},
     "outputs": []
    }
   ],
   "metadata": {}
  }
 ]
}
