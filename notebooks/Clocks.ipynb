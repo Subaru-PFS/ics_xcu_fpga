{
 "cells": [
  {
   "cell_type": "code",
   "execution_count": null,
   "metadata": {},
   "outputs": [],
   "source": [
    "import clocks\n",
    "import logging\n",
    "logging.getLogger().setLevel(logging.INFO)\n",
    "\n",
    "import numpy as np"
   ]
  },
  {
   "cell_type": "code",
   "execution_count": null,
   "metadata": {},
   "outputs": [],
   "source": [
    "%pdb off\n",
    "reload(clocks)\n",
    "import clocks.read\n",
    "reload(clocks.read)\n",
    "import clocks.wipe\n",
    "reload(clocks.wipe)\n",
    "#import clocks.hack2\n",
    "#reload(clocks.hack2)\n",
    "\n",
    "readClocks = clocks.read.readClocks()\n",
    "wipeClocks = clocks.wipe.wipeClocks()\n",
    "pre, pix, par = readClocks\n",
    "pix.printTransitions()\n",
    "\n",
    "title=' -- read.py 5d25d26 2015-11-24'\n",
    "preJSON, cut = pre.genJSON(tickDiv=2, cutAfter=4, title=title)\n",
    "pixJSON, cut = pix.genJSON(tickDiv=2, cutAfter=8, title=title)\n",
    "parJSON, cut = par.genJSON(tickDiv=2, cutAfter=4, title=title)\n"
   ]
  },
  {
   "cell_type": "code",
   "execution_count": null,
   "metadata": {},
   "outputs": [],
   "source": [
    "spix = post.enabled[0]\n",
    "sx = spix.pop()\n",
    "print [sx.label for sx in pix.allSignals()]"
   ]
  },
  {
   "cell_type": "code",
   "execution_count": null,
   "metadata": {},
   "outputs": [],
   "source": [
    "print(pixJSON)"
   ]
  },
  {
   "cell_type": "code",
   "execution_count": null,
   "metadata": {},
   "outputs": [],
   "source": [
    "print np.array(pix.ticks) * pix.tickTime\n",
    "print pix.tickTime"
   ]
  },
  {
   "cell_type": "code",
   "execution_count": null,
   "metadata": {},
   "outputs": [],
   "source": [
    "readTimes = clocks.genRowClocks(552, clocks.read.readClocks)\n",
    "wipeTimes = clocks.genRowClocks(552, clocks.wipe.wipeClocks)"
   ]
  },
  {
   "cell_type": "code",
   "execution_count": null,
   "metadata": {},
   "outputs": [],
   "source": [
    "readTimes[0].sum() * clocks.clocks.Clocks.tickTime * 4300"
   ]
  },
  {
   "cell_type": "code",
   "execution_count": null,
   "metadata": {},
   "outputs": [],
   "source": [
    "wipeTimes[0].sum()  * 0.04 / 1e6 * 4300"
   ]
  },
  {
   "cell_type": "code",
   "execution_count": null,
   "metadata": {},
   "outputs": [],
   "source": [
    "pre.ticks[-1] * 0.004 + post.ticks[-1] * 0.004 + pix.ticks[-1] * 0.004"
   ]
  },
  {
   "cell_type": "code",
   "execution_count": null,
   "metadata": {},
   "outputs": [],
   "source": []
  }
 ],
 "metadata": {
  "anaconda-cloud": {},
  "kernelspec": {
   "display_name": "Python 2",
   "language": "python",
   "name": "python2"
  },
  "language_info": {
   "codemirror_mode": {
    "name": "ipython",
    "version": 2
   },
   "file_extension": ".py",
   "mimetype": "text/x-python",
   "name": "python",
   "nbconvert_exporter": "python",
   "pygments_lexer": "ipython2",
   "version": "2.7.13"
  }
 },
 "nbformat": 4,
 "nbformat_minor": 1
}
