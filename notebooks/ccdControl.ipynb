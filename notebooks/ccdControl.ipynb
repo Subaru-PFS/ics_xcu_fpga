{
 "cells": [
  {
   "cell_type": "markdown",
   "metadata": {},
   "source": [
    "This is a _working_ notebook. See the `ccdControlIntro` notebook for a more narrative how-to. In this notebook, most cells have acquisition, processing, and plotting."
   ]
  },
  {
   "cell_type": "code",
   "execution_count": 1,
   "metadata": {
    "collapsed": false
   },
   "outputs": [],
   "source": [
    "# All system imports\n",
    "import logging\n",
    "import time\n",
    "import clocks\n",
    "import fitsio\n",
    "\n",
    "import numpy as np\n",
    "import scipy\n",
    "import scipy.optimize as opt\n",
    "\n",
    "%matplotlib inline\n",
    "import matplotlib.pyplot as plt\n"
   ]
  },
  {
   "cell_type": "code",
   "execution_count": 2,
   "metadata": {
    "collapsed": false
   },
   "outputs": [],
   "source": [
    "import power.PCM as PCM\n",
    "reload(PCM)\n",
    "\n",
    "pcm = PCM.PCM(host='10.1.1.14')\n",
    "pcm.logger.setLevel(logging.DEBUG)"
   ]
  },
  {
   "cell_type": "code",
   "execution_count": 142,
   "metadata": {
    "collapsed": false
   },
   "outputs": [],
   "source": [
    "def gobbleFeeOutput():\n",
    "    while True:\n",
    "        ret = fee.readResponse()\n",
    "        print \"got: \", ret\n",
    "        if ret == '':\n",
    "            break\n",
    "\n",
    "def feeUp0():\n",
    "    print \"feeUp0\"\n",
    "    pcm.powerOn('fee')\n",
    "    time.sleep(4)\n",
    "\n",
    "def feeUp1():\n",
    "    global fee\n",
    "    print \"feeUp1\"\n",
    "    logLevel = 20\n",
    "    fee = feeMod.FeeControl(logLevel=logLevel)\n",
    "    fee.powerUp(preset='erase')\n",
    "\n",
    "def feeUp():\n",
    "    feeUp0()\n",
    "    feeUp1()\n",
    "    \n",
    "def feeBump():\n",
    "    print \"feeBump\"\n",
    "\n",
    "    pcm.powerCmd('fee', False)\n",
    "    time.sleep(3)\n",
    "    feeUp0()\n",
    "\n",
    "def fullBump():\n",
    "    feeUp1()\n",
    "    time.sleep(1.5)\n",
    "    fee.powerDown()\n",
    "    time.sleep(1)\n",
    "    pcm.powerOff('fee')\n",
    "    \n",
    "def V1():\n",
    "    for m in ('erase', 'wipe', 'expose', 'read', 'erase'):\n",
    "        fee.setMode(m)\n",
    "        time.sleep(1)\n",
    "        \n",
    "def V0():\n",
    "    feeUp0()\n",
    "    feeUp1()\n",
    "    time.sleep(1)\n",
    "    fee.setMode('wipe')\n",
    "    time.sleep(1)\n",
    "    fee.setMode('expose')\n",
    "    time.sleep(1)\n",
    "    fee.setMode('read')\n",
    "    ccd.readImage(nrows=20, ncols=100, \n",
    "                  clockFunc=pfsClocks, doSave=False)\n",
    "    fee.setMode('erase')\n",
    "    time.sleep(1)\n",
    "    fee.powerDown()\n",
    "    time.sleep(1)\n",
    "    pcm.powerOff('fee')\n",
    "    \n",
    "    \n",
    "#feeUp1()\n",
    "#time.sleep(2)\n",
    "#feeBump()\n",
    "#print fee.doGet('voltage','54VP')\n"
   ]
  },
  {
   "cell_type": "code",
   "execution_count": 145,
   "metadata": {
    "collapsed": false
   },
   "outputs": [
    {
     "name": "stdout",
     "output_type": "stream",
     "text": [
      "feeUp0\n",
      "Success\n",
      "feeUp1"
     ]
    },
    {
     "name": "stderr",
     "output_type": "stream",
     "text": [
      "WARNING:root:locking firmware configuration\n"
     ]
    },
    {
     "name": "stdout",
     "output_type": "stream",
     "text": [
      "\n",
      "SUCCESS\n",
      "SUCCESS\n",
      "SUCCESS\n",
      "SUCCESS\n",
      "SUCCESS\n",
      "SUCCESS"
     ]
    },
    {
     "name": "stderr",
     "output_type": "stream",
     "text": [
      "line 00000 OK\n",
      "line 00019 OK\n"
     ]
    },
    {
     "name": "stdout",
     "output_type": "stream",
     "text": [
      "\n",
      "SUCCESS\n",
      "SUCCESS\n",
      "Success\n"
     ]
    }
   ],
   "source": [
    "#pcm.powerOn('fee')\n",
    "V0()"
   ]
  },
  {
   "cell_type": "code",
   "execution_count": 141,
   "metadata": {
    "collapsed": false
   },
   "outputs": [],
   "source": [
    "for i in range(5):\n",
    "    fee.setMode('erase')\n",
    "    time.sleep(1)\n",
    "#    fee.setMode('read')\n",
    "#    time.sleep(2)"
   ]
  },
  {
   "cell_type": "code",
   "execution_count": 122,
   "metadata": {
    "collapsed": false
   },
   "outputs": [
    {
     "name": "stdout",
     "output_type": "stream",
     "text": [
      "Success\n"
     ]
    }
   ],
   "source": [
    "pcm.powerOn('fee')"
   ]
  },
  {
   "cell_type": "code",
   "execution_count": 41,
   "metadata": {
    "collapsed": false
   },
   "outputs": [],
   "source": [
    "import testing.ampswitch as ampSwitch\n",
    "reload(ampSwitch)\n",
    "\n",
    "useAmpSwitch = False\n",
    "if useAmpSwitch:\n",
    "    pcm.powerCmd('ampSwitch', useAmpSwitch)\n",
    "\n",
    "    try:\n",
    "        switch.close()\n",
    "    except:\n",
    "        pass\n",
    "\n",
    "    switch = ampSwitch.AmpSwitch(host='10.1.1.21')\n",
    "    switch.readCoils()"
   ]
  },
  {
   "cell_type": "code",
   "execution_count": 138,
   "metadata": {
    "collapsed": false
   },
   "outputs": [
    {
     "name": "stdout",
     "output_type": "stream",
     "text": [
      "Success\n",
      "Success\n"
     ]
    }
   ],
   "source": [
    "pcm.powerOff('fee')\n",
    "time.sleep(1)\n",
    "pcm.powerOn('fee')\n",
    "time.sleep(4)"
   ]
  },
  {
   "cell_type": "code",
   "execution_count": 139,
   "metadata": {
    "collapsed": false
   },
   "outputs": [
    {
     "name": "stderr",
     "output_type": "stream",
     "text": [
      "WARNING:root:locking firmware configuration\n"
     ]
    },
    {
     "name": "stdout",
     "output_type": "stream",
     "text": [
      "SUCCESS\n",
      "SUCCESS\n",
      "SUCCESS\n"
     ]
    }
   ],
   "source": [
    "# FEE connection and initialization.\n",
    "# Initialize everything to some sane state.\n",
    "import fee.feeControl as feeMod\n",
    "reload(feeMod)\n",
    "\n",
    "doLoad = False # '/home/pfs/feeMain-2015-07-23_01.hex'\n",
    "doCalib = False\n",
    "\n",
    "defaultState = 'erase' # 'BT1'\n",
    "logLevel = 20\n",
    "fee = feeMod.FeeControl(port='/dev/ttyS1', logLevel=logLevel, noPowerup=True)\n",
    "if doLoad:\n",
    "    pcm.powerOff('fee')\n",
    "    time.sleep(0.5)\n",
    "\n",
    "    pcm.powerOn('fee')\n",
    "    fee.sendImage(doLoad)\n",
    "\n",
    "    time.sleep(2)\n",
    "    pcm.powerCmd('fee', turnOn=False)\n",
    "    time.sleep(1)\n",
    "    pcm.powerCmd('fee', turnOn=True)\n",
    "    time.sleep(4)\n",
    "    fee = feeMod.FeeControl(logLevel=logLevel)\n",
    "    fee.powerUp(defaultState)\n",
    "else:\n",
    "    fee.powerUp(defaultState)\n",
    "    time.sleep(4)\n",
    "    \n",
    "if doCalib:\n",
    "    fee.raw('lp,read')\n",
    "    fee.raw('cal,CDS')\n",
    "    fee.raw('cal,bias')\n",
    "    for channel in 0,1:\n",
    "        fee.doSet('bias', 'P_off', -1.0, channel=channel) \n",
    "        fee.doSet('bias', 'S_off', -1.0, channel=channel)\n",
    "        fee.doSet('bias', 'S_on', 3.0, channel=channel)\n",
    "    fee.raw('sp,BT1')\n",
    "\n",
    "    time.sleep(1)\n",
    "    pcm.powerCmd('fee', turnOn=False)\n",
    "    time.sleep(1)\n",
    "    pcm.powerCmd('fee', turnOn=True)\n",
    "    time.sleep(4)\n",
    "    fee = feeMod.FeeControl(logLevel=logLevel)\n",
    "    fee.powerUp()\n",
    "    time.sleep(1)\n",
    "    \n"
   ]
  },
  {
   "cell_type": "code",
   "execution_count": 98,
   "metadata": {
    "collapsed": false
   },
   "outputs": [
    {
     "name": "stderr",
     "output_type": "stream",
     "text": [
      "WARNING:root:locking firmware configuration\n",
      "WARNING:root:pyserial device read(1) timed out\n"
     ]
    },
    {
     "ename": "RuntimeError",
     "evalue": "command echo mismatch. sent :'se,all,on': rcvd :'':",
     "output_type": "error",
     "traceback": [
      "\u001b[1;31m---------------------------------------------------------------------------\u001b[0m",
      "\u001b[1;31mRuntimeError\u001b[0m                              Traceback (most recent call last)",
      "\u001b[1;32m<ipython-input-98-34b460f66ecf>\u001b[0m in \u001b[0;36m<module>\u001b[1;34m()\u001b[0m\n\u001b[1;32m----> 1\u001b[1;33m \u001b[0mfee\u001b[0m \u001b[1;33m=\u001b[0m \u001b[0mfeeMod\u001b[0m\u001b[1;33m.\u001b[0m\u001b[0mFeeControl\u001b[0m\u001b[1;33m(\u001b[0m\u001b[0mlogLevel\u001b[0m\u001b[1;33m=\u001b[0m\u001b[0mlogLevel\u001b[0m\u001b[1;33m)\u001b[0m\u001b[1;33m\u001b[0m\u001b[0m\n\u001b[0m\u001b[0;32m      2\u001b[0m \u001b[1;32mwhile\u001b[0m \u001b[0mTrue\u001b[0m\u001b[1;33m:\u001b[0m\u001b[1;33m\u001b[0m\u001b[0m\n\u001b[0;32m      3\u001b[0m     \u001b[0mret\u001b[0m \u001b[1;33m=\u001b[0m \u001b[0mfee\u001b[0m\u001b[1;33m.\u001b[0m\u001b[0mreadResponse\u001b[0m\u001b[1;33m(\u001b[0m\u001b[1;33m)\u001b[0m\u001b[1;33m\u001b[0m\u001b[0m\n\u001b[0;32m      4\u001b[0m     \u001b[1;32mif\u001b[0m \u001b[0mret\u001b[0m\u001b[1;33m:\u001b[0m\u001b[1;33m\u001b[0m\u001b[0m\n\u001b[0;32m      5\u001b[0m         \u001b[1;32mprint\u001b[0m \u001b[1;34m\"gobbled: %s\"\u001b[0m \u001b[1;33m%\u001b[0m \u001b[1;33m(\u001b[0m\u001b[0mret\u001b[0m\u001b[1;33m)\u001b[0m\u001b[1;33m\u001b[0m\u001b[0m\n",
      "\u001b[1;32m/home/pfs/ics_xcu_fpga/python/fee/feeControl.pyc\u001b[0m in \u001b[0;36m__init__\u001b[1;34m(self, port, logLevel, sendImage, noPowerup)\u001b[0m\n\u001b[0;32m    200\u001b[0m         \u001b[1;32melse\u001b[0m\u001b[1;33m:\u001b[0m\u001b[1;33m\u001b[0m\u001b[0m\n\u001b[0;32m    201\u001b[0m             \u001b[1;32mif\u001b[0m \u001b[1;32mnot\u001b[0m \u001b[0mnoPowerup\u001b[0m\u001b[1;33m:\u001b[0m\u001b[1;33m\u001b[0m\u001b[0m\n\u001b[1;32m--> 202\u001b[1;33m                 \u001b[0mself\u001b[0m\u001b[1;33m.\u001b[0m\u001b[0mpowerUp\u001b[0m\u001b[1;33m(\u001b[0m\u001b[1;33m)\u001b[0m\u001b[1;33m\u001b[0m\u001b[0m\n\u001b[0m\u001b[0;32m    203\u001b[0m \u001b[1;33m\u001b[0m\u001b[0m\n\u001b[0;32m    204\u001b[0m     \u001b[1;32mdef\u001b[0m \u001b[0msetDevice\u001b[0m\u001b[1;33m(\u001b[0m\u001b[0mself\u001b[0m\u001b[1;33m,\u001b[0m \u001b[0mdevName\u001b[0m\u001b[1;33m)\u001b[0m\u001b[1;33m:\u001b[0m\u001b[1;33m\u001b[0m\u001b[0m\n",
      "\u001b[1;32m/home/pfs/ics_xcu_fpga/python/fee/feeControl.pyc\u001b[0m in \u001b[0;36mpowerUp\u001b[1;34m(self, preset)\u001b[0m\n\u001b[0;32m    226\u001b[0m         \"\"\"\n\u001b[0;32m    227\u001b[0m \u001b[1;33m\u001b[0m\u001b[0m\n\u001b[1;32m--> 228\u001b[1;33m         \u001b[1;32mprint\u001b[0m \u001b[0mself\u001b[0m\u001b[1;33m.\u001b[0m\u001b[0msendCommandStr\u001b[0m\u001b[1;33m(\u001b[0m\u001b[1;34m'se,all,on'\u001b[0m\u001b[1;33m)\u001b[0m\u001b[1;33m\u001b[0m\u001b[0m\n\u001b[0m\u001b[0;32m    229\u001b[0m         \u001b[1;32mprint\u001b[0m \u001b[0mself\u001b[0m\u001b[1;33m.\u001b[0m\u001b[0msendCommandStr\u001b[0m\u001b[1;33m(\u001b[0m\u001b[1;34m'lp,%s'\u001b[0m \u001b[1;33m%\u001b[0m \u001b[1;33m(\u001b[0m\u001b[0mpreset\u001b[0m\u001b[1;33m)\u001b[0m\u001b[1;33m)\u001b[0m\u001b[1;33m\u001b[0m\u001b[0m\n\u001b[0;32m    230\u001b[0m         \u001b[1;32mprint\u001b[0m \u001b[0mself\u001b[0m\u001b[1;33m.\u001b[0m\u001b[0msendCommandStr\u001b[0m\u001b[1;33m(\u001b[0m\u001b[1;34m'se,Clks,on'\u001b[0m\u001b[1;33m)\u001b[0m\u001b[1;33m\u001b[0m\u001b[0m\n",
      "\u001b[1;32m/home/pfs/ics_xcu_fpga/python/fee/feeControl.pyc\u001b[0m in \u001b[0;36msendCommandStr\u001b[1;34m(self, cmdStr, noTilde, EOL)\u001b[0m\n\u001b[0;32m    589\u001b[0m         \u001b[0mret\u001b[0m \u001b[1;33m=\u001b[0m \u001b[0mself\u001b[0m\u001b[1;33m.\u001b[0m\u001b[0mreadResponse\u001b[0m\u001b[1;33m(\u001b[0m\u001b[1;33m)\u001b[0m\u001b[1;33m\u001b[0m\u001b[0m\n\u001b[0;32m    590\u001b[0m         \u001b[1;32mif\u001b[0m \u001b[0mret\u001b[0m \u001b[1;33m!=\u001b[0m \u001b[0mfullCmd\u001b[0m\u001b[1;33m.\u001b[0m\u001b[0mstrip\u001b[0m\u001b[1;33m(\u001b[0m\u001b[1;33m)\u001b[0m\u001b[1;33m:\u001b[0m\u001b[1;33m\u001b[0m\u001b[0m\n\u001b[1;32m--> 591\u001b[1;33m             \u001b[1;32mraise\u001b[0m \u001b[0mRuntimeError\u001b[0m\u001b[1;33m(\u001b[0m\u001b[1;34m\"command echo mismatch. sent :%r: rcvd :%r:\"\u001b[0m \u001b[1;33m%\u001b[0m \u001b[1;33m(\u001b[0m\u001b[0mcmdStr\u001b[0m\u001b[1;33m,\u001b[0m \u001b[0mret\u001b[0m\u001b[1;33m)\u001b[0m\u001b[1;33m)\u001b[0m\u001b[1;33m\u001b[0m\u001b[0m\n\u001b[0m\u001b[0;32m    592\u001b[0m \u001b[1;33m\u001b[0m\u001b[0m\n\u001b[0;32m    593\u001b[0m         \u001b[1;32mreturn\u001b[0m \u001b[0mself\u001b[0m\u001b[1;33m.\u001b[0m\u001b[0mreadResponse\u001b[0m\u001b[1;33m(\u001b[0m\u001b[1;33m)\u001b[0m\u001b[1;33m\u001b[0m\u001b[0m\n",
      "\u001b[1;31mRuntimeError\u001b[0m: command echo mismatch. sent :'se,all,on': rcvd :'':"
     ]
    }
   ],
   "source": [
    "fee = feeMod.FeeControl(logLevel=logLevel)\n",
    "while True:\n",
    "    ret = fee.readResponse()\n",
    "    if ret:\n",
    "        print \"gobbled: %s\" % (ret)\n",
    "    else:\n",
    "        break"
   ]
  },
  {
   "cell_type": "code",
   "execution_count": 76,
   "metadata": {
    "collapsed": false
   },
   "outputs": [],
   "source": [
    "#fee.zeroOffsets()\n",
    "defOffsets = np.array([-10]*8)\n",
    "fee.setOffsets(np.arange(8), -defOffsets, leg='p')\n",
    "fee.setOffsets(np.arange(8), defOffsets, leg='n')"
   ]
  },
  {
   "cell_type": "code",
   "execution_count": 101,
   "metadata": {
    "collapsed": false
   },
   "outputs": [
    {
     "name": "stdout",
     "output_type": "stream",
     "text": [
      "that took 11.850 s\n",
      "bias.ch0.P_on :  3.01\n",
      "bias.ch0.P_off :  -5.03\n",
      "bias.ch0.DG_on :  4.99\n",
      "bias.ch0.DG_off :  -6.04\n",
      "bias.ch0.S_on :  3.01\n",
      "bias.ch0.S_off :  -6.04\n",
      "bias.ch0.SW_on :  5.03\n",
      "bias.ch0.SW_off :  -7.57\n",
      "bias.ch0.RG_on :  2.01\n",
      "bias.ch0.RG_off :  -4.54\n",
      "bias.ch0.OG :  -7.66\n",
      "bias.ch0.RD :  -5.23\n",
      "bias.ch0.OD :  0.0\n",
      "bias.ch0.BB :  46.95\n",
      "bias.ch1.P_on :  3.01\n",
      "bias.ch1.P_off :  -5.03\n",
      "bias.ch1.DG_on :  4.99\n",
      "bias.ch1.DG_off :  -6.04\n",
      "bias.ch1.S_on :  3.01\n",
      "bias.ch1.S_off :  -6.04\n",
      "bias.ch1.SW_on :  5.03\n",
      "bias.ch1.SW_off :  -7.57\n",
      "bias.ch1.RG_on :  2.01\n",
      "bias.ch1.RG_off :  -4.54\n",
      "bias.ch1.OG :  -7.66\n",
      "bias.ch1.RD :  -7.51\n",
      "bias.ch1.OD :  -19.62\n",
      "bias.ch1.BB :  28.71\n",
      "voltage.3V3M :  3.28\n",
      "voltage.3V3 :  3.28\n",
      "voltage.5VP :  4.96\n",
      "voltage.5VN :  -4.91\n",
      "voltage.5VPpa :  4.94\n",
      "voltage.5VNpa :  -4.87\n",
      "voltage.12VP :  11.61\n",
      "voltage.12VN :  -11.5\n",
      "voltage.24VN :  -23.03\n",
      "voltage.54VP :  49.63\n",
      "offset.ch0.0p :  0.06\n",
      "offset.ch0.1p :  0.06\n",
      "offset.ch0.2p :  0.06\n",
      "offset.ch0.3p :  0.08\n",
      "offset.ch0.0n :  0.06\n",
      "offset.ch0.1n :  0.07\n",
      "offset.ch0.2n :  0.07\n",
      "offset.ch0.3n :  0.07\n",
      "offset.ch1.0p :  0.0\n",
      "offset.ch1.1p :  0.0\n",
      "offset.ch1.2p :  0.0\n",
      "offset.ch1.3p :  0.0\n",
      "offset.ch1.0n :  0.02\n",
      "offset.ch1.1n :  -0.01\n",
      "offset.ch1.2n :  0.0\n",
      "offset.ch1.3n :  0.0\n",
      "serial.FEE :  3060345\n",
      "serial.ADC :  3063055\n",
      "serial.PA0 :  186\n",
      "revision.FEE :  PFS BEE Rev 20150610-01, copyright JHU\n"
     ]
    }
   ],
   "source": [
    "fee.sendCommandStr('lp,read')\n",
    "t0 = time.time()\n",
    "stat = fee.getAllStatus()\n",
    "t1 = time.time()\n",
    "fee.sendCommandStr('lp,erase')\n",
    "\n",
    "print \"that took %0.3f s\" % (t1-t0)\n",
    "\n",
    "fee.printStatus()\n",
    "\n",
    "feeCards = fee.statusAsCards()"
   ]
  },
  {
   "cell_type": "code",
   "execution_count": 73,
   "metadata": {
    "collapsed": false
   },
   "outputs": [
    {
     "name": "stdout",
     "output_type": "stream",
     "text": [
      "======== erase\n",
      "P_on        6.00    1.41         6.00    5.99      \n",
      "P_off       6.00    5.99         6.00    5.99      \n",
      "DG_on       6.00    5.99         6.00    5.99      \n",
      "DG_off      6.00    5.99         6.00    5.99      \n",
      "S_on        6.00    5.99         6.00    5.99      \n",
      "S_off       6.00    5.99         6.00    5.99      \n",
      "SW_on       6.00    6.04         6.00    6.04      \n",
      "SW_off      6.00    6.00         6.00    6.00      \n",
      "RG_on       6.00    6.00         6.00    6.00      \n",
      "RG_off      6.00    6.00         6.00    6.00      \n",
      "OG          6.00   -7.66         6.00   -7.66      \n",
      "RD        -12.00   -7.64       -12.00   -8.24      \n",
      "OD         -5.00   -8.69        -5.00   -4.72      \n",
      "BB          0.20   46.69         0.20    0.00      \n",
      "======== expose\n",
      "P_on       -5.00    3.01        -5.00    3.01      \n",
      "P_off       3.00   -5.03         3.00   -5.03      \n",
      "DG_on      -5.00    4.99        -5.00    4.99      \n",
      "DG_off      5.00   -6.04         5.00   -6.04      \n",
      "S_on       -6.00    3.01        -6.00    3.01      \n",
      "S_off       3.00   -6.04         3.00   -6.04      \n",
      "SW_on      -6.00    5.03        -6.00    5.03      \n",
      "SW_off      5.00   -7.57         5.00   -7.57      \n",
      "RG_on      -7.50    2.01        -7.50    2.01      \n",
      "RG_off      2.00   -4.54         2.00   -4.54      \n",
      "OG         -4.50   -3.36        -4.50   -3.36      \n",
      "RD         -5.00   -5.25        -5.00   -8.24      \n",
      "OD         -5.00   -8.69        -5.00   -4.72      \n",
      "BB         45.00   19.13        45.00   43.27      \n",
      "======== read\n",
      "P_on       -5.00    3.01        -5.00    3.01      \n",
      "P_off       3.00   -5.03         3.00   -5.03      \n",
      "DG_on      -5.00    4.99        -5.00    4.99      \n",
      "DG_off      5.00   -6.04         5.00   -6.04      \n",
      "S_on       -6.00    3.01        -6.00    3.01      \n",
      "S_off       3.00   -6.04         3.00   -6.04      \n",
      "SW_on      -6.00    5.03        -6.00    5.03      \n",
      "SW_off      5.00   -7.57         5.00   -7.57      \n",
      "RG_on      -7.50    2.01        -7.50    2.01      \n",
      "RG_off      2.00   -4.54         2.00   -4.54      \n",
      "OG         -4.50   -7.66        -4.50   -7.66      \n",
      "RD        -12.00   -5.25       -12.00   -8.24      \n",
      "OD        -20.00    0.00       -20.00  -19.52      \n",
      "BB         30.00   46.69        30.00   28.52      \n",
      "======== wipe\n",
      "P_on       -5.00    3.01        -5.00    3.01      \n",
      "P_off       3.00   -5.03         3.00   -5.03      \n",
      "DG_on      -5.00    4.99        -5.00    4.99      \n",
      "DG_off      5.00   -6.04         5.00   -6.04      \n",
      "S_on       -6.00    3.01        -6.00    3.01      \n",
      "S_off       3.00   -6.04         3.00   -6.04      \n",
      "SW_on      -6.00    5.03        -6.00    5.03      \n",
      "SW_off      5.00   -7.57         5.00   -7.57      \n",
      "RG_on      -7.50    2.01        -7.50    2.01      \n",
      "RG_off      2.00   -4.54         2.00   -4.54      \n",
      "OG         -4.50   -7.66        -4.50   -7.66      \n",
      "RD        -12.00   -5.25       -12.00   -8.24      \n",
      "OD        -20.00    0.00       -20.00  -19.52      \n",
      "BB         30.00   46.69        30.00   28.52      \n"
     ]
    }
   ],
   "source": [
    "cmds = 'gb', 'rb'\n",
    "chans = 'ch0', 'ch1'\n",
    "\n",
    "fee.logger.setLevel(20)\n",
    "for mode in 'erase', 'expose', 'read', 'wipe':\n",
    "    fee.setMode(mode)\n",
    "\n",
    "    print \"======== %s\" % mode\n",
    "    \n",
    "    for k in fee.allKeys('bias'):\n",
    "        print \"%-8s \" % k,\n",
    "        for chan in chans:\n",
    "            for cmd in cmds:\n",
    "                v = fee.sendCommandStr('%s,%s,%s' % (cmd, k, chan))\n",
    "                print \"%6s \" % (v),\n",
    "            print \"    \",\n",
    "        print\n",
    "    \n",
    "fee.setMode('erase')\n"
   ]
  },
  {
   "cell_type": "code",
   "execution_count": 128,
   "metadata": {
    "collapsed": false
   },
   "outputs": [
    {
     "name": "stdout",
     "output_type": "stream",
     "text": [
      "None\n"
     ]
    }
   ],
   "source": [
    "if True:\n",
    "    fee.device.setTimeout(2.0)\n",
    "    print fee.saveModesToFee()\n",
    "    fee.device.setTimeout(0.5)"
   ]
  },
  {
   "cell_type": "code",
   "execution_count": 132,
   "metadata": {
    "collapsed": false
   },
   "outputs": [
    {
     "name": "stdout",
     "output_type": "stream",
     "text": [
      "3060356\n",
      "3060356\n",
      "3063060\n",
      "186\n"
     ]
    }
   ],
   "source": [
    "print fee.doGet('serial', 'FEE')\n",
    "if False:\n",
    "    fee.unlockConfig()\n",
    "    fee.setSerial('ADC', 3063060)\n",
    "    fee.setSerial('PA0', 186)\n",
    "    fee.lockConfig()\n",
    "print fee.doGet('serial', 'FEE')\n",
    "print fee.doGet('serial', 'ADC')\n",
    "print fee.doGet('serial', 'PA0')\n"
   ]
  },
  {
   "cell_type": "code",
   "execution_count": 34,
   "metadata": {
    "collapsed": false
   },
   "outputs": [
    {
     "name": "stdout",
     "output_type": "stream",
     "text": [
      "FPGA version: 0xbeefa070\n"
     ]
    }
   ],
   "source": [
    "# FPGA connection and initialization.\n",
    "# All the reloads are to make sure that new code gets picked up\n",
    "import fpga as fpgaMod\n",
    "import fpga.ccdFuncs as ccdFuncs\n",
    "import fpga.nbFuncs as nbFuncs\n",
    "\n",
    "reload(fpgaMod)\n",
    "reload(fpgaMod.ccd)\n",
    "reload(fpgaMod)\n",
    "\n",
    "ccd = fpgaMod.CCD(adc18bit=1)  # adc18bit=2 reads the low bits.\n",
    "ccd.pciReset()\n",
    "print \"FPGA version: 0x%08x\" % (ccd.peekWord(0))"
   ]
  },
  {
   "cell_type": "code",
   "execution_count": 35,
   "metadata": {
    "collapsed": false
   },
   "outputs": [],
   "source": [
    "# Load the clock tables. pfsClocks is used for each readout.\n",
    "import clocks_001\n",
    "import clocks_002\n",
    "import clocks\n",
    "reload(clocks_001)\n",
    "reload(clocks_002)\n",
    "reload(clocks)\n",
    "\n",
    "pfsClocks = clocks_002.readClocks\n",
    "pre, pix, post = pfsClocks()\n"
   ]
  },
  {
   "cell_type": "code",
   "execution_count": 75,
   "metadata": {
    "collapsed": false,
    "scrolled": false
   },
   "outputs": [
    {
     "name": "stdout",
     "output_type": "stream",
     "text": [
      "0100 140.7 117.5 113.7 116.3 105.4 108.3 126.8 100.7 0.56 0.54 0.56 0.71 0.56 0.70 0.81 0.56 OK\n",
      "0199 140.9 117.5 113.7 116.2 105.4 108.3 126.8 100.7 0.55 0.58 0.57 0.71 0.55 0.73 0.81 0.56 OK\n",
      "0100 140.7 117.4 113.6 116.2 105.4 108.4 126.9 100.7 0.57 0.54 0.56 0.70 0.58 0.67 0.78 0.54 OK\n",
      "0199 140.8 117.5 113.7 116.2 105.4 108.4 127.0 100.8 0.58 0.57 0.54 0.72 0.56 0.70 0.80 0.50 OK\n",
      "means(0.000): [140.7754 117.4538 113.6004 116.2405 105.3648 108.3434 126.8279 100.7194]\n",
      "devs (0.000): [0.5609 0.5743 0.5805 0.7019 0.5618 0.7090 0.8022 0.5616]\n",
      "\n",
      "0100 62914.9 62857.2 62864.8 62870.3 62843.6 62874.3 62871.9 62845.7 0.54 0.58 0.57 0.72 0.56 0.75 0.82 0.61 OK\n",
      "0199 62914.9 62857.2 62864.7 62870.2 62843.6 62874.3 62871.7 62845.7 0.51 0.54 0.56 0.72 0.57 0.72 0.80 0.57 OK\n",
      "means(39.800): [62914.9056 62857.2839 62864.8067 62870.3323 62843.5418 62874.3719 62871.8288 62845.7609]\n",
      "devs (39.800): [0.5382 0.5679 0.5979 0.7472 0.5739 0.7254 0.8030 0.5697]\n",
      "\n",
      "0100 60154.0 60062.0 60081.0 60090.0 60046.8 60104.9 60081.3 60053.6 0.52 0.54 0.53 0.69 0.58 0.65 0.78 0.55 OK\n",
      "0199 60153.9 60061.8 60080.9 60089.8 60046.7 60104.9 60081.4 60053.4 0.49 0.57 0.53 0.75 0.53 0.73 0.75 0.57 OK\n",
      "means(79.600): [60153.9663 60062.0140 60081.1319 60090.0783 60046.7535 60104.8625 60081.3925 60053.5300]\n",
      "devs (79.600): [0.5196 0.5819 0.5781 0.7665 0.5476 0.7125 0.8086 0.5661]\n",
      "\n",
      "0100 57392.3 57265.9 57296.2 57310.3 57249.4 57335.0 57290.5 57261.7 0.61 0.55 0.58 0.68 0.56 0.70 0.80 0.56 OK\n",
      "0199 57392.2 57265.8 57296.1 57310.2 57249.4 57334.9 57290.4 57261.6 0.57 0.57 0.59 0.72 0.56 0.74 0.77 0.57 OK\n",
      "means(119.400): [57392.3588 57265.9312 57296.2246 57310.4829 57249.4248 57335.0100 57290.5031 57261.7470]\n",
      "devs (119.400): [0.5853 0.5791 0.6140 0.7923 0.5623 0.7234 0.8006 0.5721]\n",
      "\n",
      "0100 54631.3 54470.6 54512.6 54528.4 54453.1 54566.2 54500.7 54468.8 0.55 0.60 0.54 0.72 0.54 0.73 0.84 0.56 OK\n",
      "0199 54631.2 54470.2 54512.3 54528.2 54453.0 54566.1 54500.4 54468.8 0.55 0.56 0.57 0.69 0.53 0.76 0.82 0.57 OK\n",
      "means(159.200): [54631.4013 54470.6210 54512.5779 54528.6057 54453.0897 54566.1539 54500.6176 54468.8688]\n",
      "devs (159.200): [0.5728 0.5925 0.6176 0.8190 0.5515 0.7226 0.8242 0.5557]\n",
      "\n",
      "0100 51871.0 51675.4 51729.1 51751.5 51656.5 51797.1 51710.3 51677.3 0.53 0.56 0.58 0.74 0.58 0.72 0.77 0.55 OK\n",
      "0199 51870.9 51675.4 51728.9 51751.2 51656.5 51797.0 51710.2 51677.2 0.56 0.58 0.56 0.71 0.56 0.72 0.82 0.54 OK\n",
      "means(199.000): [51871.0160 51675.5280 51729.1916 51751.7212 51656.5483 51797.1724 51710.2574 51677.2448]\n",
      "devs (199.000): [0.5494 0.6066 0.6411 0.8756 0.5756 0.7281 0.8084 0.5530]\n",
      "\n",
      "0100 140.1 116.5 112.6 115.0 104.8 107.8 126.2 100.1 0.52 0.57 0.58 0.73 0.54 0.73 0.80 0.56 OK\n",
      "0199 140.3 116.9 113.0 115.5 104.9 107.9 126.3 100.3 0.56 0.54 0.55 0.70 0.54 0.73 0.81 0.54 OK\n",
      "0100 140.7 117.3 113.5 116.0 105.1 108.2 126.7 100.5 0.55 0.56 0.56 0.69 0.53 0.68 0.81 0.56 OK\n",
      "0199 140.7 117.2 113.5 116.1 105.2 108.2 126.7 100.6 0.56 0.56 0.59 0.68 0.57 0.71 0.77 0.58 OK\n",
      "means(0.000): [140.7157 117.2916 113.4821 116.0273 105.1967 108.1878 126.6722 100.5587]\n",
      "devs (0.000): [0.5625 0.5671 0.5819 0.7023 0.5481 0.7134 0.8027 0.5711]\n",
      "\n",
      "0100 63288.0 63227.5 63236.2 63242.6 63213.9 63246.1 63240.6 63213.7 0.55 0.57 0.56 0.74 0.58 0.72 0.81 0.57 OK\n",
      "0199 63288.0 63227.5 63236.0 63242.6 63213.7 63246.1 63240.5 63213.6 0.54 0.57 0.56 0.72 0.55 0.72 0.77 0.55 OK\n",
      "means(-39.800): [63288.0232 63227.6184 63236.1720 63242.7058 63213.8256 63246.1099 63240.5518 63213.6673]\n",
      "devs (-39.800): [0.5466 0.5760 0.5815 0.7387 0.5611 0.7140 0.8044 0.5643]\n",
      "\n",
      "0100 60899.5 60802.0 60823.0 60830.6 60786.6 60848.1 60818.7 60787.9 0.57 0.56 0.52 0.72 0.57 0.71 0.79 0.56 OK\n",
      "0199 60899.5 60801.9 60823.0 60830.4 60786.6 60848.0 60818.6 60787.8 0.55 0.58 0.56 0.68 0.55 0.72 0.81 0.61 OK\n",
      "means(-79.600): [60899.6517 60801.9984 60823.0897 60830.5882 60786.5735 60848.0590 60818.6500 60787.9298]\n",
      "devs (-79.600): [0.5721 0.5742 0.5752 0.7460 0.5630 0.7157 0.7974 0.5600]\n",
      "\n",
      "0100 58510.8 58375.6 58409.6 58421.6 58358.7 58449.6 58395.9 58362.2 0.55 0.57 0.57 0.76 0.57 0.73 0.83 0.54 OK\n",
      "0199 58510.7 58375.5 58409.4 58421.4 58358.9 58449.6 58395.9 58362.1 0.54 0.57 0.59 0.75 0.53 0.70 0.82 0.58 OK\n",
      "means(-119.400): [58510.8073 58375.6854 58409.6185 58421.6971 58358.8404 58449.6665 58395.9158 58362.2349]\n",
      "devs (-119.400): [0.5560 0.5829 0.6012 0.8005 0.5458 0.7196 0.8179 0.5646]\n",
      "\n",
      "0100 56121.1 55949.3 55995.5 56010.9 55930.6 56050.9 55973.2 55935.6 0.57 0.58 0.59 0.69 0.58 0.70 0.81 0.55 OK\n",
      "0199 56121.0 55949.3 55995.4 56010.6 55930.6 56050.8 55973.1 55935.5 0.55 0.58 0.58 0.68 0.57 0.70 0.80 0.56 OK\n",
      "means(-159.200): [56121.1680 55949.3970 55995.6831 56011.0065 55930.6919 56050.8661 55973.1322 55935.5670]\n",
      "devs (-159.200): [0.5573 0.5846 0.6316 0.7997 0.5583 0.7143 0.8173 0.5677]\n",
      "\n",
      "0100 53730.3 53520.9 53579.9 53595.6 53500.8 53650.4 53548.5 53507.5 0.56 0.52 0.56 0.72 0.57 0.71 0.84 0.55 OK\n",
      "0199 53730.3 53520.8 53579.6 53595.5 53501.0 53650.4 53548.5 53507.5 0.56 0.54 0.58 0.75 0.54 0.72 0.84 0.56 OK\n",
      "means(-199.000): [53730.3524 53521.0041 53579.9387 53595.8288 53500.8945 53650.4224 53548.5684 53507.5702]\n",
      "devs (-199.000): [0.5695 0.5688 0.6286 0.8561 0.5452 0.7074 0.8097 0.5731]\n",
      "\n",
      "\n",
      "0: [   -69.37272426  65675.83286441]\n",
      "1: [   -70.23845437  65652.74708098]\n",
      "2: [   -69.94920672  65648.72182863]\n",
      "3: [   -69.84596679  65649.85251789]\n",
      "4: [   -70.27047975  65640.16691902]\n",
      "5: [   -69.58067231  65643.44641714]\n",
      "6: [   -70.11034549  65662.09513089]\n",
      "7: [   -70.15500866  65637.9383145 ]\n",
      "\n",
      "0: [  6.00347366e+01   6.56781481e+04]\n",
      "1: [  6.09694222e+01   6.56548897e+04]\n",
      "2: [  6.06529473e+01   6.56508623e+04]\n",
      "3: [  6.05862704e+01   6.56543660e+04]\n",
      "4: [  6.10094067e+01   6.56426884e+04]\n",
      "5: [  6.02727840e+01   6.56455952e+04]\n",
      "6: [  6.08781020e+01   6.56642090e+04]\n",
      "7: [  6.09662233e+01   6.56407609e+04]\n"
     ]
    },
    {
     "data": {
      "image/png": "[encoded data removed]",
      "text/plain": [
       "<matplotlib.figure.Figure at 0x7f463c035390>"
      ]
     },
     "metadata": {},
     "output_type": "display_data"
    },
    {
     "data": {
      "image/png": "[encoded data removed]",
      "text/plain": [
       "<matplotlib.figure.Figure at 0x7f463c621390>"
      ]
     },
     "metadata": {},
     "output_type": "display_data"
    }
   ],
   "source": [
    "reload(nbFuncs)\n",
    "\n",
    "doGainCurve = True\n",
    "if doGainCurve:\n",
    "    fee.zeroOffsets()\n",
    "    stepSize = 19.9*2\n",
    "    statCols = slice(5,None)\n",
    "    amps = np.arange(8)\n",
    "    noffsets, nlevels = nbFuncs.gainCurve(ccd, fee, amps=amps, stepSize=stepSize, leg='n', \n",
    "                                          statCols=statCols, doUnwrap=65000)\n",
    "    poffsets, plevels = nbFuncs.gainCurve(ccd, fee, amps=amps, stepSize=-stepSize, leg='p', \n",
    "                                          statCols=statCols, doUnwrap=65000)\n",
    "    \n",
    "    print\n",
    "    nfits = nbFuncs.plotGains(noffsets, nlevels, amps=amps)\n",
    "    print\n",
    "    pfits = nbFuncs.plotGains(poffsets, plevels, amps=amps)"
   ]
  },
  {
   "cell_type": "code",
   "execution_count": 22,
   "metadata": {
    "collapsed": false,
    "scrolled": true
   },
   "outputs": [
    {
     "name": "stdout",
     "output_type": "stream",
     "text": [
      "Automatic pdb calling has been turned OFF\n"
     ]
    }
   ],
   "source": [
    "%pdb off\n",
    "reload(ccdFuncs)\n",
    "reload(nbFuncs)\n",
    "\n",
    "allAmps = np.arange(8)\n",
    "badAmps = []\n",
    "\n",
    "dummyCcd = False\n",
    "if not dummyCcd:\n",
    "    goodAmps = np.arange(8)\n",
    "\n",
    "    startStep = 5\n",
    "    levels = 1000\n",
    "else:\n",
    "    goodAmps = np.arange(4) + 4\n",
    "    \n",
    "    startStep = 10\n",
    "    levels = np.zeros(8)\n",
    "    levels[4:] = [10000,25000,20000,15000]\n",
    "\n",
    "ncols=300\n",
    "\n",
    "doTune = False\n",
    "if doTune:\n",
    "    offs, devs, gains = nbFuncs.tuneLevels(ccd, fee, levels=levels, adjOffset=5, \n",
    "                                           amps=goodAmps,\n",
    "                                           statCols=slice(2,None), \n",
    "                                           maxLoops=10, nrows=200, \n",
    "                                           startStep=startStep, \n",
    "                                           startOffset=startStep,\n",
    "                                           sigTol=4, \n",
    "                                           clockFunc=pfsClocks, \n",
    "                                           legs='np', # useGains=nfits[:,0], \n",
    "                                           doZero=True, doUnwrap=65000)\n",
    "\n",
    "    defOffsets = offs\n"
   ]
  },
  {
   "cell_type": "code",
   "execution_count": 94,
   "metadata": {
    "collapsed": false,
    "scrolled": false
   },
   "outputs": [
    {
     "name": "stderr",
     "output_type": "stream",
     "text": [
      "WARNING:root:pyserial device read(1) timed out\n"
     ]
    },
    {
     "ename": "RuntimeError",
     "evalue": "command echo mismatch. sent :'lp,erase': rcvd :'':",
     "output_type": "error",
     "traceback": [
      "\u001b[1;31m---------------------------------------------------------------------------\u001b[0m",
      "\u001b[1;31mRuntimeError\u001b[0m                              Traceback (most recent call last)",
      "\u001b[1;32m<ipython-input-94-977382146cac>\u001b[0m in \u001b[0;36m<module>\u001b[1;34m()\u001b[0m\n\u001b[0;32m      2\u001b[0m \u001b[0mreload\u001b[0m\u001b[1;33m(\u001b[0m\u001b[0mnbFuncs\u001b[0m\u001b[1;33m)\u001b[0m\u001b[1;33m\u001b[0m\u001b[0m\n\u001b[0;32m      3\u001b[0m \u001b[1;33m\u001b[0m\u001b[0m\n\u001b[1;32m----> 4\u001b[1;33m \u001b[0mfee\u001b[0m\u001b[1;33m.\u001b[0m\u001b[0msetMode\u001b[0m\u001b[1;33m(\u001b[0m\u001b[1;34m'erase'\u001b[0m\u001b[1;33m)\u001b[0m\u001b[1;33m\u001b[0m\u001b[0m\n\u001b[0m\u001b[0;32m      5\u001b[0m \u001b[1;33m\u001b[0m\u001b[0m\n\u001b[0;32m      6\u001b[0m \u001b[1;31m# fee.sendCommandStr('sf,slow')\u001b[0m\u001b[1;33m\u001b[0m\u001b[1;33m\u001b[0m\u001b[0m\n",
      "\u001b[1;32m/home/pfs/ics_xcu_fpga/python/fee/feeControl.pyc\u001b[0m in \u001b[0;36msetMode\u001b[1;34m(self, newMode)\u001b[0m\n\u001b[0;32m    657\u001b[0m \u001b[1;33m\u001b[0m\u001b[0m\n\u001b[0;32m    658\u001b[0m     \u001b[1;32mdef\u001b[0m \u001b[0msetMode\u001b[0m\u001b[1;33m(\u001b[0m\u001b[0mself\u001b[0m\u001b[1;33m,\u001b[0m \u001b[0mnewMode\u001b[0m\u001b[1;33m)\u001b[0m\u001b[1;33m:\u001b[0m\u001b[1;33m\u001b[0m\u001b[0m\n\u001b[1;32m--> 659\u001b[1;33m         \u001b[0mself\u001b[0m\u001b[1;33m.\u001b[0m\u001b[0msendCommandStr\u001b[0m\u001b[1;33m(\u001b[0m\u001b[1;34m'lp,%s'\u001b[0m \u001b[1;33m%\u001b[0m \u001b[1;33m(\u001b[0m\u001b[0mnewMode\u001b[0m\u001b[1;33m)\u001b[0m\u001b[1;33m)\u001b[0m\u001b[1;33m\u001b[0m\u001b[0m\n\u001b[0m\u001b[0;32m    660\u001b[0m \u001b[1;33m\u001b[0m\u001b[0m\n\u001b[0;32m    661\u001b[0m     \u001b[1;32mdef\u001b[0m \u001b[0msetOffsets\u001b[0m\u001b[1;33m(\u001b[0m\u001b[0mself\u001b[0m\u001b[1;33m,\u001b[0m \u001b[0mamps\u001b[0m\u001b[1;33m,\u001b[0m \u001b[0mlevels\u001b[0m\u001b[1;33m,\u001b[0m \u001b[0mleg\u001b[0m\u001b[1;33m=\u001b[0m\u001b[1;34m'n'\u001b[0m\u001b[1;33m,\u001b[0m \u001b[0mpause\u001b[0m\u001b[1;33m=\u001b[0m\u001b[1;36m0.0\u001b[0m\u001b[1;33m)\u001b[0m\u001b[1;33m:\u001b[0m\u001b[1;33m\u001b[0m\u001b[0m\n",
      "\u001b[1;32m/home/pfs/ics_xcu_fpga/python/fee/feeControl.pyc\u001b[0m in \u001b[0;36msendCommandStr\u001b[1;34m(self, cmdStr, noTilde, EOL)\u001b[0m\n\u001b[0;32m    589\u001b[0m         \u001b[0mret\u001b[0m \u001b[1;33m=\u001b[0m \u001b[0mself\u001b[0m\u001b[1;33m.\u001b[0m\u001b[0mreadResponse\u001b[0m\u001b[1;33m(\u001b[0m\u001b[1;33m)\u001b[0m\u001b[1;33m\u001b[0m\u001b[0m\n\u001b[0;32m    590\u001b[0m         \u001b[1;32mif\u001b[0m \u001b[0mret\u001b[0m \u001b[1;33m!=\u001b[0m \u001b[0mfullCmd\u001b[0m\u001b[1;33m.\u001b[0m\u001b[0mstrip\u001b[0m\u001b[1;33m(\u001b[0m\u001b[1;33m)\u001b[0m\u001b[1;33m:\u001b[0m\u001b[1;33m\u001b[0m\u001b[0m\n\u001b[1;32m--> 591\u001b[1;33m             \u001b[1;32mraise\u001b[0m \u001b[0mRuntimeError\u001b[0m\u001b[1;33m(\u001b[0m\u001b[1;34m\"command echo mismatch. sent :%r: rcvd :%r:\"\u001b[0m \u001b[1;33m%\u001b[0m \u001b[1;33m(\u001b[0m\u001b[0mcmdStr\u001b[0m\u001b[1;33m,\u001b[0m \u001b[0mret\u001b[0m\u001b[1;33m)\u001b[0m\u001b[1;33m)\u001b[0m\u001b[1;33m\u001b[0m\u001b[0m\n\u001b[0m\u001b[0;32m    592\u001b[0m \u001b[1;33m\u001b[0m\u001b[0m\n\u001b[0;32m    593\u001b[0m         \u001b[1;32mreturn\u001b[0m \u001b[0mself\u001b[0m\u001b[1;33m.\u001b[0m\u001b[0mreadResponse\u001b[0m\u001b[1;33m(\u001b[0m\u001b[1;33m)\u001b[0m\u001b[1;33m\u001b[0m\u001b[0m\n",
      "\u001b[1;31mRuntimeError\u001b[0m: command echo mismatch. sent :'lp,erase': rcvd :'':"
     ]
    }
   ],
   "source": [
    "reload(ccdFuncs)\n",
    "reload(nbFuncs)\n",
    "\n",
    "fee.setMode('erase')\n",
    "\n",
    "# fee.sendCommandStr('sf,slow')\n",
    "\n",
    "goodAmps = np.arange(8) #[3,4,5,6, 7] # np.arange(8)\n",
    "badAmps = []\n",
    "\n",
    "nrows = 300                # How many rows to read out.\n",
    "ncols = 300\n",
    "selectRows = slice(0,500)\n",
    "selectCols = None # slice(5,5)\n",
    "pcols = np.arange(10,ncols)    # Which cols to plot\n",
    "statCols = np.arange(10,ncols) # Which cols to use for stats\n",
    "prow = (selectRows.stop+1)/2\n",
    "prows = [1, 5, prow]       # which rows to plot\n",
    "fftAmps = []\n",
    "\n",
    "figWidth = 12\n",
    "\n",
    "argDict = dict(everyNRows=300, ampList=goodAmps, cols=statCols, ccd=ccd)\n",
    "\n",
    "siggenAmp = None\n",
    "if siggenAmp is None:\n",
    "    try:\n",
    "        switch.setCoils(off=range(16))\n",
    "    except:\n",
    "        pass\n",
    "else:\n",
    "    switch.chooseCoil(siggenAmp)\n",
    "\n",
    "comment = 'pure test'\n",
    "flushRead = True\n",
    "doFile = None # '/data/pfs/2015-06-02/PFSA-00000954.fits'\n",
    "doSave = True\n",
    "if doFile:\n",
    "    im = fitsio.read(doFile)\n",
    "else:\n",
    "    fee.setMode('read')\n",
    "    time.sleep(1)\n",
    "    if flushRead:\n",
    "        im, files = ccd.readImage(nrows=100, ncols=ncols, \n",
    "                                  rowFunc=ccdFuncs.rowStats, rowFuncArgs=argDict, \n",
    "                                  clockFunc=pfsClocks, doSave=False)\n",
    "    im, files = ccd.readImage(nrows=nrows, ncols=ncols, \n",
    "                              rowFunc=ccdFuncs.rowStats, rowFuncArgs=argDict, \n",
    "                              clockFunc=pfsClocks, doSave=doSave,\n",
    "                              comment=comment, addCards=feeCards)\n",
    "    fee.setMode('erase')\n",
    "\n",
    "if selectRows is not None:\n",
    "    im = im[selectRows]\n",
    "if selectCols is not None:\n",
    "    im = im[:,selectCols]\n",
    "    \n",
    "im = im.astype('i4')\n",
    "hi_w = np.where(im > 63000)\n",
    "im[hi_w] -= 65535\n",
    "\n",
    "if siggenAmp is None:\n",
    "    amp4Mask = ccd.ampidx(4, im)\n",
    "else:\n",
    "    amp4Mask = ccd.ampidx(siggenAmp, im)\n",
    "\n",
    "#amp6Mask = ccd.ampidx(6, im)\n",
    "#im[:, amp6Mask] -= im[:, amp6Mask].mean()\n",
    "#im[:, amp6Mask] += im[:, ccd.ampidx(4, im)].mean()\n",
    "\n",
    "means,devs = nbFuncs.ampStats(im, ccd=ccd, cols=statCols)\n",
    "print \"means:\", nbFuncs.fmtArr(means, format=\"%0.3f\")\n",
    "print \"devs: \", nbFuncs.fmtArr(devs, format=\"%0.3f\")\n",
    "med4 = np.median(im[prow, amp4Mask])\n",
    "max4 = np.max(im[prow, amp4Mask])\n",
    "min4 = np.min(im[prow, amp4Mask])\n",
    "\n",
    "inject = 0.3\n",
    "print \"peak: \", med4, min4, max4, max4-med4, (max4-med4)/inject, inject/(max4-med4)\n",
    "\n",
    "# print \"shape: %s dtype: %s\" % (str(im.shape), im.dtype)\n",
    "    \n",
    "if len(files) > 0:\n",
    "    path = files[0]\n",
    "    imName = '/'.join(path.split('/')[-2:])\n",
    "    print \"file: %s\" % (path)\n",
    "\n",
    "#focusAmp = 0             # Which amp to focus on\n",
    "#focusMask = ccd.ampidx(focusAmp, im)[pcols]\n",
    "\n",
    "# plot one or more rows across the entire image\n",
    "nbFuncs.plotRows(im, prows, imName=imName, figWidth=figWidth, pixRange=200 if siggenAmp is not None else None)\n",
    "\n",
    "# plot one row for each the \"good\" amps\n",
    "peaks = None # np.arange(1, ncols, 50)\n",
    "if siggenAmp is not None:\n",
    "    channel = siggenAmp/4\n",
    "    amps0 = [siggenAmp]\n",
    "    amps1 = goodAmps[np.where((goodAmps/4 == channel) & (goodAmps != siggenAmp))]\n",
    "    amps2 = goodAmps[np.where(goodAmps/4 != channel)]\n",
    "\n",
    "    nbFuncs.plotAmps(im, amps=amps0, row=prow, cols=pcols, \n",
    "                 plotOffset=10, fig=None, figWidth=figWidth, \n",
    "                 peaks=peaks, clipPeaks=True)\n",
    "\n",
    "    nbFuncs.plotAmps(im, amps=amps1, row=prow, cols=pcols, \n",
    "                 plotOffset=100, fig=None, figWidth=figWidth, \n",
    "                 peaks=peaks, clipPeaks=True)\n",
    "\n",
    "    nbFuncs.plotAmps(im, amps=amps2, row=prow, cols=pcols, \n",
    "                 plotOffset=10, fig=None, figWidth=figWidth)\n",
    "else:\n",
    "    nbFuncs.plotAmps(im, amps=goodAmps, row=prow, cols=pcols, \n",
    "                     plotOffset=10, fig=None, figWidth=figWidth, \n",
    "                     peaks=peaks, clipPeaks=True)\n",
    "\n",
    "# f.axes[0].set_ylim(-50, 150)\n",
    "\n",
    "# plot any bad amps individually\n",
    "for a in badAmps:\n",
    "    nbFuncs.plotAmps(im, amps=[a], row=prow, cols=pcols, figWidth=figWidth)\n",
    "\n",
    "# show a grid of histograms.\n",
    "hists = nbFuncs.ampHistGrid(im, ccd, cols=pcols, histRange=20, figWidth=figWidth)\n",
    "\n",
    "# show a grid of raw amp images.\n",
    "nbFuncs.rawAmpGrid(im, ccd, cols=pcols, figWidth=figWidth, showFfts=True)\n",
    "\n",
    "fftAmps = [] # np.arange(8) # [1,2,5] # [5,6]\n",
    "if len(fftAmps) > 0:    \n",
    "    \n",
    "    fftFig = plt.figure(figsize=(figWidth, figWidth/4))\n",
    "    for a in fftAmps:\n",
    "        fftFig = plt.figure(figsize=(figWidth, figWidth/4))\n",
    "        fftMask = ccd.ampidx(a, im)[pcols]\n",
    "        ampSeg = im[prow,fftMask]\n",
    "        freqs, fft, peak_ii = ccdFuncs.plotTopPeriods(ampSeg, topN=3)\n",
    "\n",
    "\n",
    "#fig.colorbar(pp)\n",
    "#plt.tight_layout()"
   ]
  },
  {
   "cell_type": "code",
   "execution_count": null,
   "metadata": {
    "collapsed": true
   },
   "outputs": [],
   "source": []
  },
  {
   "cell_type": "code",
   "execution_count": null,
   "metadata": {
    "collapsed": true
   },
   "outputs": [],
   "source": []
  }
 ],
 "metadata": {
  "kernelspec": {
   "display_name": "Python 2",
   "language": "python",
   "name": "python2"
  },
  "language_info": {
   "codemirror_mode": {
    "name": "ipython",
    "version": 2
   },
   "file_extension": ".py",
   "mimetype": "text/x-python",
   "name": "python",
   "nbconvert_exporter": "python",
   "pygments_lexer": "ipython2",
   "version": "2.7.10"
  }
 },
 "nbformat": 4,
 "nbformat_minor": 0
}
