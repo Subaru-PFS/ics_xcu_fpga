{
 "cells": [
  {
   "cell_type": "markdown",
   "metadata": {},
   "source": [
    "This is a _working_ notebook. See the `ccdControlIntro` notebook for a more narrative how-to. In this notebook, most cells have acquisition, processing, and plotting."
   ]
  },
  {
   "cell_type": "code",
   "execution_count": 1,
   "metadata": {
    "collapsed": false
   },
   "outputs": [
    {
     "name": "stderr",
     "output_type": "stream",
     "text": [
      "/home/pfs/hostdevel/fullAnaconda/lib/python2.7/site-packages/matplotlib/font_manager.py:273: UserWarning: Matplotlib is building the font cache using fc-list. This may take a moment.\n",
      "  warnings.warn('Matplotlib is building the font cache using fc-list. This may take a moment.')\n"
     ]
    }
   ],
   "source": [
    "# All system imports\n",
    "import logging\n",
    "import time\n",
    "import clocks\n",
    "import fitsio\n",
    "\n",
    "import numpy as np\n",
    "import scipy\n",
    "import scipy.optimize as opt\n",
    "\n",
    "%matplotlib inline\n",
    "import matplotlib.pyplot as plt\n"
   ]
  },
  {
   "cell_type": "code",
   "execution_count": 2,
   "metadata": {
    "collapsed": false
   },
   "outputs": [],
   "source": [
    "cam='b9'\n",
    "\n",
    "import power.PCM as PCM\n",
    "reload(PCM)\n",
    "\n",
    "pcm = PCM.PCM(host='pcm-%s' % (cam))\n",
    "pcm.logger.setLevel(logging.DEBUG)"
   ]
  },
  {
   "cell_type": "code",
   "execution_count": 3,
   "metadata": {
    "collapsed": false
   },
   "outputs": [
    {
     "data": {
      "text/plain": [
       "<module 'testing.ccdProcedures' from '/home/pfs/ics_xcu_fpga/python/testing/ccdProcedures.pyc'>"
      ]
     },
     "execution_count": 3,
     "metadata": {},
     "output_type": "execute_result"
    }
   ],
   "source": [
    "import fpga.ccdFuncs as ccdFuncs\n",
    "reload(ccdFuncs)\n",
    "import testing.ccdProcedures as ccdTests\n",
    "reload(ccdTests)"
   ]
  },
  {
   "cell_type": "code",
   "execution_count": 4,
   "metadata": {
    "collapsed": false
   },
   "outputs": [],
   "source": [
    "def gobbleFeeOutput():\n",
    "    while True:\n",
    "        ret = fee.readResponse()\n",
    "        print \"got: \", ret\n",
    "        if ret == '':\n",
    "            break\n",
    "\n",
    "def feeDown():\n",
    "    global fee\n",
    "    fee.powerDown()\n",
    "    time.sleep(0.25)\n",
    "    pcm.powerOff('fee')\n",
    "    time.sleep(0.25)\n",
    "    \n",
    "def feeUp0():\n",
    "    print \"feeUp0\"\n",
    "    pcm.powerOn('fee')\n",
    "    time.sleep(4)\n",
    "\n",
    "def feeUp1():\n",
    "    global fee\n",
    "    print \"feeUp1\"\n",
    "    logLevel = 20\n",
    "    fee = feeMod.FeeControl(logLevel=logLevel)\n",
    "\n",
    "def feeUp():\n",
    "    feeUp0()\n",
    "    feeUp1()\n",
    "    \n",
    "def feeBump():\n",
    "    print \"feeBump\"\n",
    "\n",
    "    pcm.powerCmd('fee', False)\n",
    "    time.sleep(3)\n",
    "    feeUp0()\n",
    "\n",
    "def fullBump():\n",
    "    feeUp1()\n",
    "    time.sleep(1.5)\n",
    "    fee.powerDown()\n",
    "    time.sleep(1)\n",
    "    pcm.powerOff('fee')\n",
    "    \n",
    "def V0():\n",
    "    feeUp0()\n",
    "    feeUp1()\n",
    "    fee.setMode('wipe')\n",
    "    time.sleep(1)\n",
    "    fee.setMode('expose')\n",
    "    time.sleep(1)\n",
    "    fee.setMode('read')\n",
    "    ccd.readImage(nrows=40, ncols=100, \n",
    "                  clockFunc=pfsClocks, doSave=False)\n",
    "    fee.setMode('erase')\n",
    "    time.sleep(1)\n",
    "#    fee.powerDown()\n",
    "#    time.sleep(1)\n",
    "    pcm.powerOff('fee')\n",
    "    time.sleep(1)\n",
    "    \n",
    "def V1():\n",
    "    feeUp()\n",
    "    # In erase at this point\n",
    "    ccdFuncs.fullExposure('dark', ccd=ccd, \n",
    "                          expTime=0.5, doSave=False,\n",
    "                          ncols=300, nrows=10)\n",
    "    time.sleep(0.5)\n",
    "    feeDown()\n",
    "    time.sleep(1)\n",
    "    \n",
    "#feeUp1()\n",
    "#time.sleep(2)\n",
    "#feeBump()\n",
    "#print fee.doGet('voltage','54VP')\n"
   ]
  },
  {
   "cell_type": "code",
   "execution_count": 5,
   "metadata": {
    "collapsed": false
   },
   "outputs": [],
   "source": [
    "def calcOffsets(target, current):\n",
    "    m = np.round((target - current) / 30, 1)\n",
    "    r = np.round(m * 40.0/57.0)\n",
    "\n",
    "    return m, r\n"
   ]
  },
  {
   "cell_type": "code",
   "execution_count": 6,
   "metadata": {
    "collapsed": false
   },
   "outputs": [
    {
     "name": "stderr",
     "output_type": "stream",
     "text": [
      "DEBUG:root:sending '~06\\r\\n'\n",
      "DEBUG:root:received 'Success'\n"
     ]
    },
    {
     "name": "stdout",
     "output_type": "stream",
     "text": [
      "Success\n"
     ]
    }
   ],
   "source": [
    "#fee.powerDown()\n",
    "pcm.powerOff('fee')"
   ]
  },
  {
   "cell_type": "code",
   "execution_count": 7,
   "metadata": {
    "collapsed": false,
    "scrolled": true
   },
   "outputs": [
    {
     "name": "stderr",
     "output_type": "stream",
     "text": [
      "DEBUG:root:sending '~16\\r\\n'\n",
      "DEBUG:root:received 'Success'\n",
      "WARNING:root:locking firmware configuration\n"
     ]
    },
    {
     "name": "stdout",
     "output_type": "stream",
     "text": [
      "Success\n",
      "SUCCESS\n",
      "SUCCESS\n"
     ]
    }
   ],
   "source": [
    "# FEE connection and initialization.\n",
    "# Initialize everything to some sane state.\n",
    "import fee.feeControl as feeMod\n",
    "reload(feeMod)\n",
    "\n",
    "doLoad = False # '/home/pfs/feeMain-2015-12-21_01.hex'\n",
    "doCalib = False\n",
    "\n",
    "logLevel = 20\n",
    "if doLoad:\n",
    "    logLevel = 5\n",
    "    fee = feeMod.FeeControl(logLevel=logLevel, noPowerup=True)\n",
    "    pcm.powerOff('fee')\n",
    "    time.sleep(0.5)\n",
    "\n",
    "    pcm.powerOn('fee')\n",
    "    fee.sendImage(doLoad)\n",
    "\n",
    "    time.sleep(2)\n",
    "    pcm.powerOff('fee')\n",
    "    time.sleep(1)\n",
    "    pcm.powerOn('fee')\n",
    "    time.sleep(4)\n",
    "    fee = feeMod.FeeControl(logLevel=logLevel, noPowerup=True)\n",
    "    fee.powerUp()\n",
    "else:\n",
    "    pcm.powerOn('fee')\n",
    "    time.sleep(3.5)\n",
    "    fee = feeMod.FeeControl(logLevel=logLevel)\n",
    "    \n",
    "if doCalib:\n",
    "    if not doLoad:\n",
    "        fee.saveModesOnFee()\n",
    "\n",
    "    fee.raw('lp,read')\n",
    "    fee.raw('cal,CDS')\n",
    "    fee.raw('cal,bias')\n",
    "\n",
    "    time.sleep(1)\n",
    "    pcm.powerOff('fee')\n",
    "    time.sleep(1)\n",
    "    pcm.powerOn('fee')\n",
    "    time.sleep(4)\n",
    "    fee = feeMod.FeeControl(logLevel=logLevel)\n",
    "    \n"
   ]
  },
  {
   "cell_type": "code",
   "execution_count": 8,
   "metadata": {
    "collapsed": false
   },
   "outputs": [
    {
     "name": "stderr",
     "output_type": "stream",
     "text": [
      "DEBUG:root:sending command :'~rt,all\\n':\n",
      "DEBUG:root:received :~rt,all:\n",
      "DEBUG:root:received :272.67,272.69,295.96,294.67:\n"
     ]
    },
    {
     "name": "stdout",
     "output_type": "stream",
     "text": [
      "get all enable: 0.00s\n",
      "get all temps: 1.03s"
     ]
    },
    {
     "name": "stderr",
     "output_type": "stream",
     "text": [
      "DEBUG:root:sending command :'~rb,all,ch0\\n':\n",
      "DEBUG:root:received :~rb,all,ch0:\n",
      "DEBUG:root:received :0.00,0.00,0.00,0.00,0.00,0.00,0.00,0.00,0.00,0.00,0.00,-0.66,-0.66,0.00:\n",
      "DEBUG:root:sending command :'~rb,all,ch1\\n':\n",
      "DEBUG:root:received :~rb,all,ch1:\n",
      "DEBUG:root:received :0.00,0.00,0.00,0.00,0.00,0.00,0.00,0.00,0.00,0.00,0.00,-0.67,-0.66,0.00:\n"
     ]
    },
    {
     "name": "stdout",
     "output_type": "stream",
     "text": [
      "\n",
      "get all bias: 0.63s"
     ]
    },
    {
     "name": "stderr",
     "output_type": "stream",
     "text": [
      "DEBUG:root:sending command :'~rv,all\\n':\n",
      "DEBUG:root:received :~rv,all:\n",
      "DEBUG:root:received :3.36,3.35,5.21,-5.05,5.11,-5.01,11.85,-11.72,-23.56,50.71:\n"
     ]
    },
    {
     "name": "stdout",
     "output_type": "stream",
     "text": [
      "\n",
      "get all voltage: 0.23s"
     ]
    },
    {
     "name": "stderr",
     "output_type": "stream",
     "text": [
      "DEBUG:root:sending command :'~ro,all,ch0\\n':\n",
      "DEBUG:root:received :~ro,all,ch0:\n",
      "DEBUG:root:received :0.17,0.12,0.12,0.18,0.25,0.19,0.19,0.26:\n",
      "DEBUG:root:sending command :'~ro,all,ch1\\n':\n",
      "DEBUG:root:received :~ro,all,ch1:\n",
      "DEBUG:root:received :0.00,-0.08,-0.08,0.03,-0.02,0.02,0.02,0.00:\n"
     ]
    },
    {
     "name": "stdout",
     "output_type": "stream",
     "text": [
      "\n",
      "get all offset: 0.53s\n",
      "get all preset: 0.00s\n",
      "2.44384598732\n"
     ]
    },
    {
     "data": {
      "text/plain": [
       "[('serial.FEE', '3060344', ''),\n",
       " ('serial.ADC', '3055', ''),\n",
       " ('serial.PA0', '194', ''),\n",
       " ('serial.CCD0', 'dummy_00', ''),\n",
       " ('serial.CCD1', 'dummy_01', ''),\n",
       " ('revision.FEE', 'PFS BEE Rev 20151221-02, copyright JHU', ''),\n",
       " ('temps.CCD0', '272.67', ''),\n",
       " ('temps.CCD1', '272.69', ''),\n",
       " ('temps.FEE', '295.96', ''),\n",
       " ('temps.PA', '294.67', ''),\n",
       " ('bias.ch0.P_on', 0.0, ''),\n",
       " ('bias.ch0.P_off', 0.0, ''),\n",
       " ('bias.ch0.DG_on', 0.0, ''),\n",
       " ('bias.ch0.DG_off', 0.0, ''),\n",
       " ('bias.ch0.S_on', 0.0, ''),\n",
       " ('bias.ch0.S_off', 0.0, ''),\n",
       " ('bias.ch0.SW_on', 0.0, ''),\n",
       " ('bias.ch0.SW_off', 0.0, ''),\n",
       " ('bias.ch0.RG_on', 0.0, ''),\n",
       " ('bias.ch0.RG_off', 0.0, ''),\n",
       " ('bias.ch0.OG', 0.0, ''),\n",
       " ('bias.ch0.RD', -0.66000000000000003, ''),\n",
       " ('bias.ch0.OD', -0.66000000000000003, ''),\n",
       " ('bias.ch0.BB', 0.0, ''),\n",
       " ('bias.ch1.P_on', 0.0, ''),\n",
       " ('bias.ch1.P_off', 0.0, ''),\n",
       " ('bias.ch1.DG_on', 0.0, ''),\n",
       " ('bias.ch1.DG_off', 0.0, ''),\n",
       " ('bias.ch1.S_on', 0.0, ''),\n",
       " ('bias.ch1.S_off', 0.0, ''),\n",
       " ('bias.ch1.SW_on', 0.0, ''),\n",
       " ('bias.ch1.SW_off', 0.0, ''),\n",
       " ('bias.ch1.RG_on', 0.0, ''),\n",
       " ('bias.ch1.RG_off', 0.0, ''),\n",
       " ('bias.ch1.OG', 0.0, ''),\n",
       " ('bias.ch1.RD', -0.67000000000000004, ''),\n",
       " ('bias.ch1.OD', -0.66000000000000003, ''),\n",
       " ('bias.ch1.BB', 0.0, ''),\n",
       " ('voltage.3V3M', 3.3599999999999999, ''),\n",
       " ('voltage.3V3', 3.3500000000000001, ''),\n",
       " ('voltage.5VP', 5.21, ''),\n",
       " ('voltage.5VN', -5.0499999999999998, ''),\n",
       " ('voltage.5VPpa', 5.1100000000000003, ''),\n",
       " ('voltage.5VNpa', -5.0099999999999998, ''),\n",
       " ('voltage.12VP', 11.85, ''),\n",
       " ('voltage.12VN', -11.720000000000001, ''),\n",
       " ('voltage.24VN', -23.559999999999999, ''),\n",
       " ('voltage.54VP', 50.710000000000001, ''),\n",
       " ('offset.ch0.0p', 0.17000000000000001, ''),\n",
       " ('offset.ch0.0n', 0.12, ''),\n",
       " ('offset.ch0.1p', 0.12, ''),\n",
       " ('offset.ch0.1n', 0.17999999999999999, ''),\n",
       " ('offset.ch0.2p', 0.25, ''),\n",
       " ('offset.ch0.2n', 0.19, ''),\n",
       " ('offset.ch0.3p', 0.19, ''),\n",
       " ('offset.ch0.3n', 0.26000000000000001, ''),\n",
       " ('offset.ch1.0p', 0.0, ''),\n",
       " ('offset.ch1.0n', -0.080000000000000002, ''),\n",
       " ('offset.ch1.1p', -0.080000000000000002, ''),\n",
       " ('offset.ch1.1n', 0.029999999999999999, ''),\n",
       " ('offset.ch1.2p', -0.02, ''),\n",
       " ('offset.ch1.2n', 0.02, ''),\n",
       " ('offset.ch1.3p', 0.02, ''),\n",
       " ('offset.ch1.3n', 0.0, '')]"
      ]
     },
     "execution_count": 8,
     "metadata": {},
     "output_type": "execute_result"
    }
   ],
   "source": [
    "t0 = time.time()\n",
    "fee.logger.setLevel(5)\n",
    "s = fee.statusAsCards()\n",
    "fee.logger.setLevel(20)\n",
    "t1 = time.time()\n",
    "print t1-t0\n",
    "s"
   ]
  },
  {
   "cell_type": "code",
   "execution_count": 11,
   "metadata": {
    "collapsed": false
   },
   "outputs": [
    {
     "name": "stdout",
     "output_type": "stream",
     "text": [
      "FPGA version: 0xbeefa070\n"
     ]
    }
   ],
   "source": [
    "# FPGA connection and initialization.\n",
    "# All the reloads are to make sure that new code gets picked up\n",
    "import fpga as fpgaMod\n",
    "#import fpga.ccdFuncs as ccdFuncs\n",
    "import fpga.nbFuncs as nbFuncs\n",
    "\n",
    "reload(fpgaMod)\n",
    "reload(fpgaMod.ccd)\n",
    "reload(fpgaMod)\n",
    "\n",
    "ccd = fpgaMod.ccd.CCD(9, 'blue', adc18bit=1)  # adc18bit=2 reads the low bits.\n",
    "ccd.pciReset()\n",
    "print \"FPGA version: 0x%08x\" % (ccd.peekWord(0))"
   ]
  },
  {
   "cell_type": "code",
   "execution_count": 12,
   "metadata": {
    "collapsed": false
   },
   "outputs": [
    {
     "name": "stdout",
     "output_type": "stream",
     "text": [
      "272.70 272.57\n",
      "294.67\n",
      "289.91\n"
     ]
    }
   ],
   "source": [
    "fee.logger.setLevel(20)\n",
    "#gobbleFeeOutput()\n",
    "#print fee.device.timeout\n",
    "for i in range(1):\n",
    "    ccd1 = fee.sendCommandStr('rt,ccd1')\n",
    "    ccd0 = fee.sendCommandStr('rt,ccd0')\n",
    "    print \"%s %s\" % (ccd0, ccd1)\n",
    "\n",
    "print fee.sendCommandStr('rt,PA')\n",
    "print fee.sendCommandStr('rt,FEE')"
   ]
  },
  {
   "cell_type": "code",
   "execution_count": 13,
   "metadata": {
    "collapsed": false
   },
   "outputs": [
    {
     "name": "stdout",
     "output_type": "stream",
     "text": [
      "Automatic pdb calling has been turned OFF\n",
      "get all enable: 0.00s\n",
      "get all temps: 1.15s\n",
      "get all bias: 0.63s\n",
      "get all voltage: 0.23s\n",
      "get all offset: 0.53s\n",
      "get all preset: 0.00s\n",
      "that took 2.566 s\n",
      "serial.FEE :  3060344\n",
      "serial.ADC :  3055\n",
      "serial.PA0 :  194\n",
      "serial.CCD0 :  dummy_00\n",
      "serial.CCD1 :  dummy_01\n",
      "revision.FEE :  PFS BEE Rev 20151221-02, copyright JHU\n",
      "temps.CCD0 :  272.59\n",
      "temps.CCD1 :  272.50\n",
      "temps.FEE :  296.10\n",
      "temps.PA :  294.79\n",
      "bias.ch0.P_on :  -5.03\n",
      "bias.ch0.P_off :  3.01\n",
      "bias.ch0.DG_on :  4.99\n",
      "bias.ch0.DG_off :  4.99\n",
      "bias.ch0.S_on :  -6.04\n",
      "bias.ch0.S_off :  3.01\n",
      "bias.ch0.SW_on :  -6.04\n",
      "bias.ch0.SW_off :  5.04\n",
      "bias.ch0.RG_on :  -7.57\n",
      "bias.ch0.RG_off :  2.01\n",
      "bias.ch0.OG :  -4.54\n",
      "bias.ch0.RD :  -11.98\n",
      "bias.ch0.OD :  -20.97\n",
      "bias.ch0.BB :  29.43\n",
      "bias.ch1.P_on :  -5.04\n",
      "bias.ch1.P_off :  3.01\n",
      "bias.ch1.DG_on :  4.99\n",
      "bias.ch1.DG_off :  4.99\n",
      "bias.ch1.S_on :  -6.04\n",
      "bias.ch1.S_off :  3.01\n",
      "bias.ch1.SW_on :  -6.04\n",
      "bias.ch1.SW_off :  5.04\n",
      "bias.ch1.RG_on :  -7.57\n",
      "bias.ch1.RG_off :  2.01\n",
      "bias.ch1.OG :  -4.54\n",
      "bias.ch1.RD :  -11.99\n",
      "bias.ch1.OD :  -20.96\n",
      "bias.ch1.BB :  29.37\n",
      "voltage.3V3M :  3.36\n",
      "voltage.3V3 :  3.35\n",
      "voltage.5VP :  5.2\n",
      "voltage.5VN :  -5.05\n",
      "voltage.5VPpa :  5.12\n",
      "voltage.5VNpa :  -5.01\n",
      "voltage.12VP :  11.85\n",
      "voltage.12VN :  -11.71\n",
      "voltage.24VN :  -23.55\n",
      "voltage.54VP :  50.68\n",
      "offset.ch0.0p :  0.14\n",
      "offset.ch0.0n :  0.13\n",
      "offset.ch0.1p :  0.12\n",
      "offset.ch0.1n :  0.19\n",
      "offset.ch0.2p :  0.23\n",
      "offset.ch0.2n :  0.18\n",
      "offset.ch0.3p :  0.16\n",
      "offset.ch0.3n :  0.24\n",
      "offset.ch1.0p :  -0.02\n",
      "offset.ch1.0n :  -0.05\n",
      "offset.ch1.1p :  -0.06\n",
      "offset.ch1.1n :  0.0\n",
      "offset.ch1.2p :  -0.03\n",
      "offset.ch1.2n :  0.0\n",
      "offset.ch1.3p :  0.0\n",
      "offset.ch1.3n :  0.0\n"
     ]
    }
   ],
   "source": [
    "%pdb off\n",
    "fee.logger.setLevel(20)\n",
    "fee.setMode('read')\n",
    "t0 = time.time()\n",
    "feeCards = fee.statusAsCards()\n",
    "t1 = time.time()\n",
    "fee.setMode('erase')\n",
    "\n",
    "print \"that took %0.3f s\" % (t1-t0)\n",
    "fee.printStatus()\n",
    "\n"
   ]
  },
  {
   "cell_type": "code",
   "execution_count": 14,
   "metadata": {
    "collapsed": false
   },
   "outputs": [
    {
     "name": "stdout",
     "output_type": "stream",
     "text": [
      "======== erase\n",
      "P_on        6.00    5.99         6.00    5.99      \n",
      "P_off       6.00    5.99         6.00    5.99      \n",
      "DG_on       6.00    5.99         6.00    5.99      \n",
      "DG_off      6.00    5.99         6.00    5.99      \n",
      "S_on        6.00    5.99         6.00    5.99      \n",
      "S_off       6.00    5.99         6.00    5.99      \n",
      "SW_on       6.00    5.99         6.00    5.99      \n",
      "SW_off      6.00    6.05         6.00    6.05      \n",
      "RG_on       6.00    6.00         6.00    6.00      \n",
      "RG_off      6.00    6.00         6.00    6.00      \n",
      "OG          6.00    6.00         6.00    6.00      \n",
      "RD        -12.00  -11.98       -12.00  -11.99      \n",
      "OD         -5.00   -4.98        -5.00   -4.98      \n",
      "BB          0.20    0.00         0.20    0.00      \n",
      "======== wipe\n",
      "P_on       -5.00   -5.03        -5.00   -5.04      \n",
      "P_off       3.00    3.01         3.00    3.01      \n",
      "DG_on       5.00    4.99         5.00    4.99      \n",
      "DG_off      5.00    4.99         5.00    4.99      \n",
      "S_on       -6.00   -6.04        -6.00   -6.04      \n",
      "S_off       3.00    3.01         3.00    3.01      \n",
      "SW_on      -6.00   -6.04        -6.00   -6.04      \n",
      "SW_off      5.00    5.04         5.00    5.04      \n",
      "RG_on      -7.50   -7.57        -7.50   -7.57      \n",
      "RG_off      2.00    2.01         2.00    2.01      \n",
      "OG         -4.50   -4.54        -4.50   -4.54      \n",
      "RD        -12.00  -11.98       -12.00  -11.99      \n",
      "OD        -21.00  -20.97       -21.00  -20.96      \n",
      "BB         30.00   29.44        30.00   29.38      \n",
      "======== expose\n",
      "P_on       -5.00   -5.03        -5.00   -5.04      \n",
      "P_off       3.00    3.01         3.00    3.01      \n",
      "DG_on       5.00    4.99         5.00    4.99      \n",
      "DG_off      5.00    4.99         5.00    4.99      \n",
      "S_on       -6.00   -6.04        -6.00   -6.04      \n",
      "S_off       3.00    3.01         3.00    3.01      \n",
      "SW_on      -6.00   -6.04        -6.00   -6.04      \n",
      "SW_off      5.00    5.04         5.00    5.04      \n",
      "RG_on      -7.50   -7.57        -7.50   -7.58      \n",
      "RG_off      2.00    2.01         2.00    2.01      \n",
      "OG         -4.50   -4.54        -4.50   -4.54      \n",
      "RD         -5.00   -4.99        -5.00   -4.99      \n",
      "OD         -5.00   -4.98        -5.00   -4.98      \n",
      "BB         45.00   44.40        45.00   44.30      \n",
      "======== read\n",
      "P_on       -5.00   -5.03        -5.00   -5.03      \n",
      "P_off       3.00    3.01         3.00    3.01      \n",
      "DG_on       5.00    4.99         5.00    4.99      \n",
      "DG_off      5.00    4.99         5.00    4.99      \n",
      "S_on       -6.00   -6.04        -6.00   -6.04      \n",
      "S_off       3.00    3.01         3.00    3.01      \n",
      "SW_on      -6.00   -6.04        -6.00   -6.04      \n",
      "SW_off      5.00    5.04         5.00    5.04      \n",
      "RG_on      -7.50   -7.57        -7.50   -7.57      \n",
      "RG_off      2.00    2.01         2.00    2.01      \n",
      "OG         -4.50   -4.54        -4.50   -4.54      \n",
      "RD        -12.00  -11.98       -12.00  -11.99      \n",
      "OD        -21.00  -20.97       -21.00  -20.96      \n",
      "BB         30.00   29.44        30.00   29.38      \n",
      "======== revRead\n",
      "P_on       -5.00   -5.03        -5.00   -5.04      \n",
      "P_off       3.00    3.01         3.00    3.01      \n",
      "DG_on       5.00    4.99         5.00    4.99      \n",
      "DG_off      5.00    4.99         5.00    4.99      \n",
      "S_on       -6.00   -6.04        -6.00   -6.04      \n",
      "S_off       3.00    3.01         3.00    3.01      \n",
      "SW_on      -6.00   -6.04        -6.00   -6.04      \n",
      "SW_off      5.00    5.04         5.00    5.04      \n",
      "RG_on      -7.50   -7.57        -7.50   -7.57      \n",
      "RG_off      2.00    2.01         2.00    2.01      \n",
      "OG         -4.50   -4.54        -4.50   -4.54      \n",
      "RD        -12.00  -11.98       -12.00  -11.99      \n",
      "OD        -21.00  -20.97       -21.00  -20.96      \n",
      "BB         30.00   29.44        30.00   29.38      \n",
      "======== idle\n",
      "P_on        6.00    5.99         6.00    5.99      \n",
      "P_off       6.00    5.99         6.00    5.99      \n",
      "DG_on       6.00    5.99         6.00    5.99      \n",
      "DG_off      6.00    5.99         6.00    5.99      \n",
      "S_on        6.00    5.99         6.00    5.99      \n",
      "S_off       6.00    5.99         6.00    5.99      \n",
      "SW_on       6.00    5.99         6.00    5.99      \n",
      "SW_off      6.00    6.05         6.00    6.05      \n",
      "RG_on       6.00    6.00         6.00    6.00      \n",
      "RG_off      6.00    6.00         6.00    6.00      \n",
      "OG          6.00    6.00         6.00    6.00      \n",
      "RD        -12.00  -11.99       -12.00  -11.99      \n",
      "OD         -5.00   -4.98        -5.00   -4.98      \n",
      "BB         30.00   29.44        30.00   29.37      \n"
     ]
    }
   ],
   "source": [
    "cmds = 'gb', 'rb'\n",
    "chans = 'ch0', 'ch1'\n",
    "\n",
    "fee.logger.setLevel(20)\n",
    "for mode in 'erase', 'wipe', 'expose', 'read', 'revRead', 'idle':\n",
    "    fee.setMode(mode)\n",
    "    time.sleep(0.25)\n",
    "    \n",
    "    print \"======== %s\" % mode\n",
    "    \n",
    "    for k in fee.allKeys('bias'):\n",
    "        print \"%-8s \" % k,\n",
    "        for chan in chans:\n",
    "            for cmd in cmds:\n",
    "                v = fee.sendCommandStr('%s,%s,%s' % (cmd, k, chan))\n",
    "                print \"%6s \" % (v),\n",
    "            print \"    \",\n",
    "        print"
   ]
  },
  {
   "cell_type": "code",
   "execution_count": null,
   "metadata": {
    "collapsed": false
   },
   "outputs": [],
   "source": [
    "fee.logger.setLevel(5)\n",
    "fee.setMode('read')\n",
    "\n",
    "print fee.raw('gb,RD,ch1')\n",
    "print fee.raw('rb,RD,ch1')\n",
    "print fee.raw('gb,all,ch1')\n",
    "print fee.raw('rb,all,ch1')\n",
    "\n",
    "fee.logger.setLevel(20)\n"
   ]
  },
  {
   "cell_type": "code",
   "execution_count": null,
   "metadata": {
    "collapsed": true
   },
   "outputs": [],
   "source": [
    "print fee.raw"
   ]
  },
  {
   "cell_type": "code",
   "execution_count": null,
   "metadata": {
    "collapsed": false
   },
   "outputs": [],
   "source": [
    "if False:\n",
    "    fee.logger.setLevel(5)\n",
    "    fee.device.setTimeout(2.0)\n",
    "    print fee.saveModesOnFee()\n",
    "    fee.device.setTimeout(0.5)\n",
    "    fee.logger.setLevel(20)\n"
   ]
  },
  {
   "cell_type": "code",
   "execution_count": null,
   "metadata": {
    "collapsed": false
   },
   "outputs": [],
   "source": [
    "if True:\n",
    "    print fee.doGet('serial', 'FEE')\n",
    "    fee.unlockConfig()\n",
    "    fee.setSerial('CCD0', 'dummy_0')\n",
    "    fee.setSerial('CCD1', 'dummy_1')\n",
    "    fee.lockConfig()\n",
    "print fee.doGet('serial', 'FEE')\n",
    "print fee.doGet('serial', 'ADC')\n",
    "print fee.doGet('serial', 'PA0')\n",
    "print fee.doGet('serial', 'CCD0')\n",
    "print fee.doGet('serial', 'CCD1')\n"
   ]
  },
  {
   "cell_type": "code",
   "execution_count": null,
   "metadata": {
    "collapsed": false
   },
   "outputs": [],
   "source": [
    "# Load the clock tables. pfsClocks is used for each readout.\n",
    "import clocks\n",
    "import clocks.read\n",
    "reload(clocks.read)\n",
    "reload(clocks)\n",
    "\n",
    "pfsClocks = clocks.read.readClocks\n",
    "pre, pix, post = pfsClocks()\n"
   ]
  },
  {
   "cell_type": "code",
   "execution_count": null,
   "metadata": {
    "collapsed": false
   },
   "outputs": [],
   "source": [
    "def setGains(_lev):\n",
    "    refSlope = \"p\"\n",
    "    masterSlope = \"n\"\n",
    "\n",
    "    _ref = _lev\n",
    "    _master = _\n",
    "    defOffsets = np.array([_lev]*8)\n",
    "    fee.setOffsets(np.arange(8), defOffsets, leg=masterSlope)\n",
    "\n",
    "    defOffsets = np.array([_lev*(-55.0/-66)]*8)\n",
    "    fee.setOffsets(np.arange(8), defOffsets, leg=refSlope)\n",
    "\n",
    "\n",
    "def gainTest1(offset, nrows=200, clockFunc=pfsClocks, doUnwrap=65000, statCols=slice(30,-30)):\n",
    "        setGains(offset)\n",
    "        \n",
    "        argDict = dict(everyNRows=100, ampList=amps, ccd=ccd)                                                                                           \n",
    "\n",
    "        \n",
    "        im, files = ccd.readImage(nrows=nrows, rowFunc=ccdFuncs.rowStats, rowFuncArgs=argDict, doSave=False,                                        \n",
    "                                  clockFunc=clockFunc)                                                                                              \n",
    "        if doUnwrap is not False:                                                                                                                   \n",
    "            im = im.astype('i4')                                                                                                                    \n",
    "            hi_w = im > doUnwrap                                                                                                                    \n",
    "            if hi_w.sum() > 0:                                                                                                                      \n",
    "                print \"!!!! unwraping %d pixels !!!!\" % (hi_w.sum())                                                                                \n",
    "                im[hi_w] -= 65535                                                                                                                   \n",
    "                                                                                                                                                    \n",
    "        newLevels, devs = nbFuncs.ampStats(im, statCols, ccd=ccd)                                                                                           \n",
    "        print \"means(%0.3f): %s\" % (offset, nbFuncs.fmtArr(newLevels))                                                                                      \n",
    "        print \"devs (%0.3f): %s\" % (offset, nbFuncs.fmtArr(devs))      \n",
    "        \n",
    "        return newLevels, devs\n"
   ]
  },
  {
   "cell_type": "code",
   "execution_count": null,
   "metadata": {
    "collapsed": false,
    "scrolled": true
   },
   "outputs": [],
   "source": [
    "%pdb off\n",
    "\n",
    "reload(ccdFuncs)\n",
    "reload(nbFuncs)\n",
    "\n",
    "# fee.setMode('read')\n",
    "doGainCurve = True\n",
    "if doGainCurve:\n",
    "    fee.zeroOffsets()\n",
    "    stepSize = 19.9 * 4\n",
    "    statCols = slice(100,-100)\n",
    "    amps = np.arange(8)\n",
    "    noffsets, nlevels = nbFuncs.gainCurve(ccd, fee, amps=amps, stepSize=stepSize, leg='n', offLimit=400,\n",
    "                                          statCols=statCols, doUnwrap=65000, clockFunc=pfsClocks, nrows=300)\n",
    "    poffsets, plevels = nbFuncs.gainCurve(ccd, fee, amps=amps, stepSize=-stepSize, leg='p', offLimit=400,\n",
    "                                          statCols=statCols, doUnwrap=65000, clockFunc=pfsClocks, nrows=300)\n",
    "    \n",
    "    print\n",
    "    nfits = nbFuncs.plotGains(noffsets, nlevels, amps=amps)\n",
    "    print\n",
    "    pfits = nbFuncs.plotGains(poffsets, plevels, amps=amps)\n",
    "    \n",
    "fee.zeroOffsets()"
   ]
  },
  {
   "cell_type": "code",
   "execution_count": null,
   "metadata": {
    "collapsed": false,
    "scrolled": true
   },
   "outputs": [],
   "source": [
    "%pdb off\n",
    "reload(ccdFuncs)\n",
    "reload(nbFuncs)\n",
    "\n",
    "allAmps = np.arange(8)\n",
    "badAmps = []\n",
    "\n",
    "dummyCcd = False\n",
    "if not dummyCcd:\n",
    "    goodAmps = np.arange(8)\n",
    "\n",
    "    startStep = 5\n",
    "    levels = 1000\n",
    "else:\n",
    "    goodAmps = np.arange(4) + 4\n",
    "    \n",
    "    startStep = 10\n",
    "    levels = np.zeros(8)\n",
    "    levels[4:] = [10000,25000,20000,15000]\n",
    "\n",
    "ncols=300\n",
    "\n",
    "doTune = False\n",
    "if doTune:\n",
    "    offs, devs, gains = nbFuncs.tuneLevels(ccd, fee, levels=levels, adjOffset=5, \n",
    "                                           amps=goodAmps,\n",
    "                                           statCols=slice(2,None), \n",
    "                                           maxLoops=10, nrows=200, \n",
    "                                           startStep=startStep, \n",
    "                                           startOffset=startStep,\n",
    "                                           sigTol=4, \n",
    "                                           clockFunc=pfsClocks, \n",
    "                                           legs='np', # useGains=nfits[:,0], \n",
    "                                           doZero=True, doUnwrap=65000)\n",
    "\n",
    "    defOffsets = offs\n"
   ]
  },
  {
   "cell_type": "code",
   "execution_count": null,
   "metadata": {
    "collapsed": false
   },
   "outputs": [],
   "source": [
    "refSlope = \"p\"\n",
    "masterSlope = \"n\"\n",
    "# fee.zeroOffsets()\n",
    "\n",
    "current = np.array([6204.921, 5003.009, 3296.557, 2548.498, 6141.049, 5045.979, 6259.639, 4928.726])\n",
    "current = np.array([6256.143, 5016.784, 3245.525, 2541.481, 6069.705, 5083.763, 3980.821, 2596.544])\n",
    "current = np.array([6198.592, 5000.811, 3932.805, 2616.125, 6143.811, 5047.019, 6265.157, 4926.674])\n",
    "current = np.array([6257.553, 5016.021, 3906.896, 2612.281, 6074.105, 5082.719, 3979.107, 2592.892])\n",
    "\n",
    "zeros = np.zeros(8)\n",
    "m, r = calcOffsets(1000,current)\n",
    "print repr(m)\n",
    "print repr(r)\n",
    "\n",
    "fee.logger.setLevel(20)\n",
    "masterOffsets = m # np.array([0]*8)\n",
    "refOffsets = r # np.array([0]*8)\n",
    "fee.setOffsets(np.arange(8), masterOffsets, leg=masterSlope)\n",
    "fee.setOffsets(np.arange(8), refOffsets, leg=refSlope)\n",
    "fee.logger.setLevel(20)\n",
    "\n",
    "fee.getCommandStatus(fee.commands['offset'])"
   ]
  },
  {
   "cell_type": "code",
   "execution_count": null,
   "metadata": {
    "collapsed": true
   },
   "outputs": [],
   "source": [
    "fee.zeroOffsets()"
   ]
  },
  {
   "cell_type": "code",
   "execution_count": null,
   "metadata": {
    "collapsed": false
   },
   "outputs": [],
   "source": [
    "feeDown()\n",
    "V1()\n",
    "time.sleep(2)\n",
    "feeUp()"
   ]
  },
  {
   "cell_type": "code",
   "execution_count": null,
   "metadata": {
    "collapsed": false,
    "scrolled": false
   },
   "outputs": [],
   "source": [
    "reload(ccdFuncs)\n",
    "reload(nbFuncs)\n",
    "\n",
    "goodAmps = np.arange(8) #[3,4,5,6, 7] # np.arange(8)\n",
    "badAmps = []\n",
    "\n",
    "nrows = 400          # How many rows to read out.\n",
    "ncols = 400\n",
    "selectRows = slice(20,nrows-20)\n",
    "selectCols = slice(20,-5)\n",
    "pcols = np.arange(32,ncols-64)    # Which cols to plot\n",
    "statCols = np.arange(40,ncols-64) # Which cols to use for stats\n",
    "prow = (selectRows.stop+1)/2\n",
    "prows = [prow-100,prow,prow+100]       # which rows to plot\n",
    "fftAmps = []\n",
    "\n",
    "figWidth = 12\n",
    "\n",
    "argDict = dict(everyNRows=300, ampList=goodAmps, cols=statCols, ccd=ccd)\n",
    "\n",
    "siggenAmp = None\n",
    "if siggenAmp is None:\n",
    "    try:\n",
    "        switch.setCoils(off=range(16))\n",
    "    except:\n",
    "        pass\n",
    "else:\n",
    "    switch.chooseCoil(siggenAmp)\n",
    "\n",
    "comment = 'pure test'\n",
    "doFile = False # '/data/pfs/2015-12-09/PFSA00706091.fits'\n",
    "doSave = True\n",
    "doWipe = cam != 'b9'\n",
    "if doFile:\n",
    "    im = fitsio.read(doFile)\n",
    "else:\n",
    "#    im, files = ccd.readImage(nrows=nrows, ncols=ncols, \n",
    "#                              rowFunc=ccdFuncs.rowStats, rowFuncArgs=argDict, \n",
    "#                              clockFunc=pfsClocks, doSave=doSave,\n",
    "#                              comment=comment, addCards=feeCards)\n",
    "#    fee.setMode('erase')\n",
    "    im, files = ccdFuncs.fullExposure('bias', ccd=ccd,\n",
    "                                      nrows=nrows, ncols=ncols, \n",
    "#                                 rowFunc=ccdFuncs.rowStats, rowFuncArgs=argDict, \n",
    "                                      clockFunc=pfsClocks, doSave=doSave,\n",
    "                                      doWipe=doWipe,\n",
    "                                      comment=comment)\n",
    "    fee.setMode('idle')\n",
    "\n",
    "if selectRows is not None:\n",
    "    im = im[selectRows]\n",
    "if selectCols is not None:\n",
    "    im = im[:,selectCols]\n",
    "    \n",
    "im = im.astype('i4')\n",
    "if False:\n",
    "    hi_w = np.where(im > 63000)\n",
    "    im[hi_w] -= 65535\n",
    "\n",
    "if siggenAmp is None:\n",
    "    amp4Mask = ccd.ampidx(4, im)\n",
    "else:\n",
    "    amp4Mask = ccd.ampidx(siggenAmp, im)\n",
    "\n",
    "#amp6Mask = ccd.ampidx(6, im)\n",
    "#im[:, amp6Mask] -= im[:, amp6Mask].mean()\n",
    "#im[:, amp6Mask] += im[:, ccd.ampidx(4, im)].mean()\n",
    "\n",
    "means,devs = nbFuncs.ampStats(im, ccd=ccd, cols=statCols)\n",
    "print \"means:\", nbFuncs.fmtArr(means, format=\"%0.3f\")\n",
    "print \"devs: \", nbFuncs.fmtArr(devs, format=\"%0.3f\")\n",
    "med4 = np.median(im[prow, amp4Mask])\n",
    "max4 = np.max(im[prow, amp4Mask])\n",
    "min4 = np.min(im[prow, amp4Mask])\n",
    "\n",
    "inject = 0.3\n",
    "print \"peak: \", med4, min4, max4, max4-med4, (max4-med4)/inject, inject/(max4-med4)\n",
    "\n",
    "# print \"shape: %s dtype: %s\" % (str(im.shape), im.dtype)\n",
    "    \n",
    "if len(files) > 0:\n",
    "    path = files[0]\n",
    "    imName = '/'.join(path.split('/')[-2:])\n",
    "    print \"file: %s\" % (path)\n",
    "\n",
    "#focusAmp = 0             # Which amp to focus on\n",
    "#focusMask = ccd.ampidx(focusAmp, im)[pcols]\n",
    "\n",
    "# plot one or more rows across the entire image\n",
    "nbFuncs.plotRows(im, prows, imName=imName, figWidth=figWidth, pixRange=200 if siggenAmp is not None else None)\n",
    "\n",
    "# plot one row for each the \"good\" amps\n",
    "peaks = None # np.arange(1, ncols, 50)\n",
    "if siggenAmp is not None:\n",
    "    channel = siggenAmp/4\n",
    "    amps0 = [siggenAmp]\n",
    "    amps1 = goodAmps[np.where((goodAmps/4 == channel) & (goodAmps != siggenAmp))]\n",
    "    amps2 = goodAmps[np.where(goodAmps/4 != channel)]\n",
    "\n",
    "    nbFuncs.plotAmps(im, amps=amps0, row=prow, cols=pcols, \n",
    "                 plotOffset=10, fig=None, figWidth=figWidth, \n",
    "                 peaks=peaks, clipPeaks=True)\n",
    "\n",
    "    nbFuncs.plotAmps(im, amps=amps1, row=prow, cols=pcols, \n",
    "                 plotOffset=100, fig=None, figWidth=figWidth, \n",
    "                 peaks=peaks, clipPeaks=True)\n",
    "\n",
    "    nbFuncs.plotAmps(im, amps=amps2, row=prow, cols=pcols, \n",
    "                 plotOffset=10, fig=None, figWidth=figWidth)\n",
    "else:\n",
    "    nbFuncs.plotAmps(im, amps=goodAmps, row=prow, cols=pcols, \n",
    "                     plotOffset=10, fig=None, figWidth=figWidth, \n",
    "                     peaks=peaks, clipPeaks=True)\n",
    "\n",
    "# f.axes[0].set_ylim(-50, 150)\n",
    "\n",
    "# plot any bad amps individually\n",
    "for a in badAmps:\n",
    "    nbFuncs.plotAmps(im, amps=[a], row=prow, cols=pcols, figWidth=figWidth)\n",
    "\n",
    "# show a grid of histograms.\n",
    "hists = nbFuncs.ampHistGrid(im, ccd, cols=pcols, histRange=20, figWidth=figWidth)\n",
    "\n",
    "# show a grid of raw amp images.\n",
    "nbFuncs.rawAmpGrid(im, ccd, cols=pcols, figWidth=figWidth, showFfts=True)\n",
    "\n",
    "fftAmps = np.arange(8) # [1,2,5] # [5,6]\n",
    "if len(fftAmps) > 0:    \n",
    "    fftFig, pl = plt.subplots(nrows=len(fftAmps),\n",
    "                              figsize=(figWidth, figWidth/4 * len(fftAmps)))\n",
    "    for a in fftAmps:\n",
    "        fftMask = ccd.ampidx(a, im)[pcols]\n",
    "        ampSeg = im[prow,fftMask]\n",
    "        freqs, fft, peak_ii = ccdFuncs.plotTopPeriods(ampSeg, plot=pl[a], topN=3)\n",
    "\n",
    "\n",
    "#fig.colorbar(pp)\n",
    "#plt.tight_layout()"
   ]
  },
  {
   "cell_type": "code",
   "execution_count": null,
   "metadata": {
    "collapsed": true
   },
   "outputs": [],
   "source": []
  },
  {
   "cell_type": "code",
   "execution_count": null,
   "metadata": {
    "collapsed": true
   },
   "outputs": [],
   "source": []
  }
 ],
 "metadata": {
  "kernelspec": {
   "display_name": "Python 2",
   "language": "python",
   "name": "python2"
  },
  "language_info": {
   "codemirror_mode": {
    "name": "ipython",
    "version": 2
   },
   "file_extension": ".py",
   "mimetype": "text/x-python",
   "name": "python",
   "nbconvert_exporter": "python",
   "pygments_lexer": "ipython2",
   "version": "2.7.11"
  }
 },
 "nbformat": 4,
 "nbformat_minor": 0
}
