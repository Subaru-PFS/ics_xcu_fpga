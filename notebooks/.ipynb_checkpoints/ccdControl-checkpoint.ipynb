{
 "metadata": {
  "name": ""
 },
 "nbformat": 3,
 "nbformat_minor": 0,
 "worksheets": [
  {
   "cells": [
    {
     "cell_type": "markdown",
     "metadata": {},
     "source": [
      "## CCD notebook\n",
      "\n",
      "This notebook is intended to provide a working and interactive example of how to control and readout the detectors through the FPGA. You can make a copy of the notebook and edit it as you see fit. \n",
      "\n",
      "Some essentials:\n",
      "\n",
      " - Ctrl-Enter runs the cell you are in.\n",
      " - Ctrl-m b creates a new one just below the one you are in.\n",
      " - Ctrl-m d deletes a cell\n",
      " - Ctrl-m h shows the rest of the keyboard shortcuts\n",
      " - the Help/Notebook menu link gives more help. \n",
      " \n",
      "In general you want to run some initialization cells, then mess around in your own. Once you have routines of general interest they can be moved into project python files.\n"
     ]
    },
    {
     "cell_type": "markdown",
     "metadata": {},
     "source": [
      "### Initialization\n",
      "\n",
      "Just once, when loading this notebook (or running such a program in ipython or anywhere else), `import` the python modules. We currently have two:\n",
      "\n",
      "  - `fpga`, for clock definition and detector readout.\n",
      "  - `fee`, for FEE control of the voltages, etc.\n",
      "  "
     ]
    },
    {
     "cell_type": "code",
     "collapsed": false,
     "input": [
      "import fpga\n",
      "import fee"
     ],
     "language": "python",
     "metadata": {},
     "outputs": [],
     "prompt_number": 1
    },
    {
     "cell_type": "code",
     "collapsed": false,
     "input": [
      "dreload(fee)"
     ],
     "language": "python",
     "metadata": {},
     "outputs": [
      {
       "output_type": "stream",
       "stream": "stdout",
       "text": [
        "Reloading fee.feeControl\n",
        "Reloading"
       ]
      },
      {
       "output_type": "stream",
       "stream": "stdout",
       "text": [
        "Reloading os\n",
        "Reloading errno\n",
        "Reloading posix\n",
        "Reloading posixpath\n",
        "Reloading stat\n",
        "Reloading genericpath\n",
        "Reloading warnings\n",
        "Reloading linecache\n",
        "Reloading types\n",
        "Reloading _warnings\n",
        "Reloading UserDict\n",
        "Reloading _abcoll\n",
        "Reloading abc\n",
        "Reloading _weakrefset\n",
        "Reloading _weakref\n",
        "Reloading copy_reg\n",
        " fee.argparse\n",
        "Reloading argparse\n",
        "Reloading collections\n",
        "Reloading _collections\n",
        "Reloading operator\n",
        "Reloading keyword\n",
        "Reloading heapq\n",
        "Reloading itertools\n",
        "Reloading _heapq\n",
        "Reloading thread\n",
        "Reloading copy\n",
        "Reloading weakref\n",
        "Reloading exceptions\n",
        "Reloading org\n",
        "Reloading re"
       ]
      },
      {
       "output_type": "stream",
       "stream": "stdout",
       "text": [
        "\n",
        "Reloading sre_compile\n",
        "Reloading _sre\n",
        "Reloading sre_parse\n",
        "Reloading sre_constants\n",
        "Reloading textwrap\n",
        "Reloading string\n",
        "Reloading strop\n",
        "Reloading gettext\n",
        "Reloading locale\n",
        "Reloading encodings\n",
        "Reloading encodings.codecs\n",
        "Reloading codecs\n",
        "Reloading _codecs\n",
        "Reloading encodings.encodings\n",
        "Reloading encodings.__builtin__\n",
        "Reloading encodings.aliases\n",
        "Reloading functools\n",
        "Reloading _functools\n",
        "Reloading _locale\n",
        "Reloading struct\n",
        "Reloading _struct\n",
        "Reloading fee.logging\n",
        "Reloading logging\n",
        "Reloading"
       ]
      },
      {
       "output_type": "stream",
       "stream": "stdout",
       "text": [
        " logging.sys\n",
        "Reloading logging.os\n",
        "Reloading logging.time\n",
        "Reloading time\n",
        "Reloading logging.cStringIO\n",
        "Reloading cStringIO\n",
        "Reloading logging.traceback\n",
        "Reloading traceback\n",
        "Reloading logging.warnings\n",
        "Reloading logging.weakref\n",
        "Reloading logging.codecs\n",
        "Reloading logging.thread\n",
        "Reloading logging.threading\n",
        "Reloading threading\n",
        "Reloading logging.atexit\n",
        "Reloading atexit\n",
        "Reloading fee.serial\n",
        "Reloading serial\n",
        "Reloading serial.sys\n",
        "Reloading serial.os\n",
        "Reloading serial.serial\n",
        "Reloading serial.serialposix\n",
        "Reloading serial.fcntl\n",
        "Reloading fcntl\n",
        "Reloading serial.termios\n",
        "Reloading termios\n",
        "Reloading serial.struct\n",
        "Reloading serial.select\n",
        "Reloading select\n",
        "Reloading serial.errno\n",
        "Reloading serial.time\n",
        "Reloading serial.serialutil\n",
        "Reloading serial.io\n",
        "Reloading io\n",
        "Reloading _io\n",
        "Reloading fee.sys\n"
       ]
      },
      {
       "metadata": {},
       "output_type": "pyout",
       "prompt_number": 25,
       "text": [
        "<module 'fee' from '/home/pfs/ccdFPGA/python/fee/__init__.pyc'>"
       ]
      }
     ],
     "prompt_number": 25
    },
    {
     "cell_type": "markdown",
     "metadata": {},
     "source": [
      "Also just once (usually), create instances of the device objects. In both cases, the device is connected to and slightly set up.\n",
      "\n",
      "The FEE class is currently pretty crude: you can send raw commands, or request basic initialization. To wit:\n",
      "\n",
      " - `f.powerUp()` enables the power supplies and sets the voltages to the `read` state.\n",
      " - `f.raw(cmdStr)` sends a raw command string (without the ~ and NL) \n"
     ]
    },
    {
     "cell_type": "code",
     "collapsed": false,
     "input": [
      "ccd = fpga.CCD()\n",
      "f = fee.FeeControl()"
     ],
     "language": "python",
     "metadata": {},
     "outputs": [
      {
       "output_type": "stream",
       "stream": "stderr",
       "text": [
        "DEBUG:root:sending command :'~gr\\n':\n"
       ]
      },
      {
       "output_type": "stream",
       "stream": "stderr",
       "text": [
        "DEBUG:root:ignoring CR\n"
       ]
      },
      {
       "output_type": "stream",
       "stream": "stderr",
       "text": [
        "DEBUG:root:received :PFS BEE Rev-, copyright JHU:\n"
       ]
      },
      {
       "output_type": "stream",
       "stream": "stdout",
       "text": [
        "connected to FEE, revision PFS BEE Rev-, copyright JHU\n"
       ]
      }
     ],
     "prompt_number": 2
    },
    {
     "cell_type": "code",
     "collapsed": false,
     "input": [
      "f.powerUp()\n",
      "print f.raw('gv,3V3M')"
     ],
     "language": "python",
     "metadata": {},
     "outputs": [
      {
       "output_type": "stream",
       "stream": "stderr",
       "text": [
        "DEBUG:root:sending command :'~se,all,on\\n':\n"
       ]
      },
      {
       "output_type": "stream",
       "stream": "stderr",
       "text": [
        "DEBUG:root:ignoring CR\n"
       ]
      },
      {
       "output_type": "stream",
       "stream": "stderr",
       "text": [
        "DEBUG:root:received :SUCCESS:\n"
       ]
      },
      {
       "output_type": "stream",
       "stream": "stderr",
       "text": [
        "DEBUG:root:sending command :'~lp,read\\n':\n"
       ]
      },
      {
       "output_type": "stream",
       "stream": "stderr",
       "text": [
        "DEBUG:root:ignoring CR\n"
       ]
      },
      {
       "output_type": "stream",
       "stream": "stderr",
       "text": [
        "DEBUG:root:received :SUCCESS:\n"
       ]
      },
      {
       "output_type": "stream",
       "stream": "stdout",
       "text": [
        "SUCCESS\n",
        "SUCCESS"
       ]
      },
      {
       "output_type": "stream",
       "stream": "stderr",
       "text": [
        "DEBUG:root:sending command :'~gv,3V3M\\n':\n"
       ]
      },
      {
       "output_type": "stream",
       "stream": "stderr",
       "text": [
        "DEBUG:root:ignoring CR\n"
       ]
      },
      {
       "output_type": "stream",
       "stream": "stderr",
       "text": [
        "DEBUG:root:received :3.23:\n"
       ]
      },
      {
       "output_type": "stream",
       "stream": "stdout",
       "text": [
        "\n",
        "3.23"
       ]
      },
      {
       "output_type": "stream",
       "stream": "stdout",
       "text": [
        "\n"
       ]
      }
     ],
     "prompt_number": 30
    },
    {
     "cell_type": "markdown",
     "metadata": {},
     "source": [
      "The `CCD` class has essentially one routine: `readImage()`. The implementation of the interface has one readout routine in C -- `readLine()`, which reads a single row from the FPGA, and returns it in the raw, FPGA-native pixel ordering. The python (`cython`, to be precise) readout routine then reformats that row into the detector-native ordering and adds it to an image.\n",
      "\n",
      "There are a number of options to the ccd.readImage() routine -- type `ccd.readImage?` in a cell an execute it to get the current documentation. Here, we will add one, just to specify a smaller number of rows than the default. We aslo assign the returned image to a variable for later use"
     ]
    },
    {
     "cell_type": "code",
     "collapsed": false,
     "input": [
      "im = ccd.readImage(nrows=500)"
     ],
     "language": "python",
     "metadata": {},
     "outputs": [
      {
       "output_type": "stream",
       "stream": "stderr",
       "text": [
        "line 00000 OK\n",
        "line 00100 OK\n"
       ]
      },
      {
       "output_type": "stream",
       "stream": "stderr",
       "text": [
        "line 00200 OK\n",
        "line 00300 OK\n"
       ]
      },
      {
       "output_type": "stream",
       "stream": "stderr",
       "text": [
        "line 00400 OK\n",
        "line 00499 OK\n"
       ]
      }
     ],
     "prompt_number": 3
    },
    {
     "cell_type": "markdown",
     "metadata": {},
     "source": [
      "What's in the image? This notebook is configured to embed graphics, so we can look at a single row, "
     ]
    },
    {
     "cell_type": "code",
     "collapsed": false,
     "input": [
      "figure(1)\n",
      "imshow(im)\n"
     ],
     "language": "python",
     "metadata": {},
     "outputs": [
      {
       "metadata": {},
       "output_type": "pyout",
       "prompt_number": 19,
       "text": [
        "<matplotlib.image.AxesImage at 0x3c57210>"
       ]
      },
      {
       "metadata": {},
       "output_type": "display_data",
       "png": "[encoded data removed]",
       "text": [
        "<matplotlib.figure.Figure at 0x3c08a50>"
       ]
      }
     ],
     "prompt_number": 19
    },
    {
     "cell_type": "code",
     "collapsed": false,
     "input": [
      "amp1idx = ampidx(1)\n",
      "amp6idx = ampidx(5)\n",
      "figure(2)\n",
      "plot(im[10,amp1idx] - im[10,amp1idx].mean())\n",
      "plot(im[10,amp6idx] - im[10,amp6idx].mean())\n"
     ],
     "language": "python",
     "metadata": {},
     "outputs": [
      {
       "metadata": {},
       "output_type": "pyout",
       "prompt_number": 20,
       "text": [
        "[<matplotlib.lines.Line2D at 0x3c38510>]"
       ]
      },
      {
       "metadata": {},
       "output_type": "display_data",
       "png": "[encoded data removed]",
       "text": [
        "<matplotlib.figure.Figure at 0x3c5c750>"
       ]
      }
     ],
     "prompt_number": 20
    },
    {
     "cell_type": "code",
     "collapsed": false,
     "input": [
      "f = figure(1)\n",
      "plot(im[10,amp1idx] - im[10,amp1idx].mean())\n",
      "\n",
      "f.savefig('p.svg')"
     ],
     "language": "python",
     "metadata": {},
     "outputs": [
      {
       "metadata": {},
       "output_type": "display_data",
       "png": "[encoded data removed]",
       "text": [
        "<matplotlib.figure.Figure at 0x6624290>"
       ]
      }
     ],
     "prompt_number": 23
    },
    {
     "cell_type": "code",
     "collapsed": false,
     "input": [
      "import scipy\n",
      "import scipy.optimize as opt"
     ],
     "language": "python",
     "metadata": {},
     "outputs": [],
     "prompt_number": 7
    },
    {
     "cell_type": "code",
     "collapsed": false,
     "input": [],
     "language": "python",
     "metadata": {},
     "outputs": [],
     "prompt_number": 6
    },
    {
     "cell_type": "code",
     "collapsed": false,
     "input": [
      "def sinfit(x, a0, a1, a2, a3):\n",
      "        return a0 * numpy.sin(a1 + x/a2) + a3"
     ],
     "language": "python",
     "metadata": {},
     "outputs": [],
     "prompt_number": 93
    },
    {
     "cell_type": "code",
     "collapsed": false,
     "input": [
      "figure(3)\n",
      "clf()\n",
      "x = arange(0,100).astype('f8')\n",
      "y = sinfit(x, 30.0, 0.0, 1, 0)\n",
      "plot(x,y)\n",
      "#plot(x,im6y)"
     ],
     "language": "python",
     "metadata": {},
     "outputs": [
      {
       "metadata": {},
       "output_type": "pyout",
       "prompt_number": 106,
       "text": [
        "[<matplotlib.lines.Line2D at 0x595fed0>]"
       ]
      }
     ],
     "prompt_number": 106
    },
    {
     "cell_type": "code",
     "collapsed": false,
     "input": [
      "figure(2)\n",
      "clf()"
     ],
     "language": "python",
     "metadata": {},
     "outputs": [],
     "prompt_number": 83
    },
    {
     "cell_type": "code",
     "collapsed": false,
     "input": [
      "figure(2)\n",
      "clf()\n",
      "a0,a1,a2,a3 = fit[0]\n",
      "print fit[0]\n",
      "y = a0*numpy.sin(a1 + x/a2)+a3\n",
      "plot(x,y)\n",
      "y = a0*numpy.sin(a1 + x)+a3\n",
      "plot(x,y)\n"
     ],
     "language": "python",
     "metadata": {},
     "outputs": [
      {
       "output_type": "stream",
       "stream": "stdout",
       "text": [
        "[  3.48091896e-01   1.31489728e+00   3.14289796e+00   1.50845691e+04]\n"
       ]
      },
      {
       "metadata": {},
       "output_type": "pyout",
       "prompt_number": 102,
       "text": [
        "[<matplotlib.lines.Line2D at 0x54d8990>]"
       ]
      }
     ],
     "prompt_number": 102
    },
    {
     "cell_type": "code",
     "collapsed": false,
     "input": [
      "im6x = arange(536).astype('f8')\n",
      "im6y = im[10, ampidx(2)]"
     ],
     "language": "python",
     "metadata": {},
     "outputs": [],
     "prompt_number": 107
    },
    {
     "cell_type": "code",
     "collapsed": false,
     "input": [
      "figure(1)\n",
      "clf()"
     ],
     "language": "python",
     "metadata": {},
     "outputs": [],
     "prompt_number": 86
    },
    {
     "cell_type": "code",
     "collapsed": false,
     "input": [
      "yReal = im6y.astype('f8') - im6y.mean()\n",
      "yhat = fftpack.rfft(yReal)\n",
      "freqs = fftfreq(len(yhat), d = 1.0/(2*pi))\n",
      "ymax = (yhat**2).args()[-1]\n",
      "print ymax, freqs[ymax]\n",
      "ymag = numpy.absolute(yhat)\n",
      "plot(ymag)"
     ],
     "language": "python",
     "metadata": {},
     "outputs": [
      {
       "ename": "NameError",
       "evalue": "name 'im6y' is not defined",
       "output_type": "pyerr",
       "traceback": [
        "\u001b[1;31m---------------------------------------------------------------------------\u001b[0m\n\u001b[1;31mNameError\u001b[0m                                 Traceback (most recent call last)",
        "\u001b[1;32m<ipython-input-16-6286ce579b8b>\u001b[0m in \u001b[0;36m<module>\u001b[1;34m()\u001b[0m\n\u001b[1;32m----> 1\u001b[1;33m \u001b[0myReal\u001b[0m \u001b[1;33m=\u001b[0m \u001b[0mim6y\u001b[0m\u001b[1;33m.\u001b[0m\u001b[0mastype\u001b[0m\u001b[1;33m(\u001b[0m\u001b[1;34m'f8'\u001b[0m\u001b[1;33m)\u001b[0m \u001b[1;33m-\u001b[0m \u001b[0mim6y\u001b[0m\u001b[1;33m.\u001b[0m\u001b[0mmean\u001b[0m\u001b[1;33m(\u001b[0m\u001b[1;33m)\u001b[0m\u001b[1;33m\u001b[0m\u001b[0m\n\u001b[0m\u001b[0;32m      2\u001b[0m \u001b[0myhat\u001b[0m \u001b[1;33m=\u001b[0m \u001b[0mfftpack\u001b[0m\u001b[1;33m.\u001b[0m\u001b[0mrfft\u001b[0m\u001b[1;33m(\u001b[0m\u001b[0myReal\u001b[0m\u001b[1;33m)\u001b[0m\u001b[1;33m\u001b[0m\u001b[0m\n\u001b[0;32m      3\u001b[0m \u001b[0mfreqs\u001b[0m \u001b[1;33m=\u001b[0m \u001b[0mfftfreq\u001b[0m\u001b[1;33m(\u001b[0m\u001b[0mlen\u001b[0m\u001b[1;33m(\u001b[0m\u001b[0myhat\u001b[0m\u001b[1;33m)\u001b[0m\u001b[1;33m,\u001b[0m \u001b[0md\u001b[0m \u001b[1;33m=\u001b[0m \u001b[1;36m1.0\u001b[0m\u001b[1;33m/\u001b[0m\u001b[1;33m(\u001b[0m\u001b[1;36m2\u001b[0m\u001b[1;33m*\u001b[0m\u001b[0mpi\u001b[0m\u001b[1;33m)\u001b[0m\u001b[1;33m)\u001b[0m\u001b[1;33m\u001b[0m\u001b[0m\n\u001b[0;32m      4\u001b[0m \u001b[0mymax\u001b[0m \u001b[1;33m=\u001b[0m \u001b[1;33m(\u001b[0m\u001b[0myhat\u001b[0m\u001b[1;33m**\u001b[0m\u001b[1;36m2\u001b[0m\u001b[1;33m)\u001b[0m\u001b[1;33m.\u001b[0m\u001b[0margs\u001b[0m\u001b[1;33m(\u001b[0m\u001b[1;33m)\u001b[0m\u001b[1;33m[\u001b[0m\u001b[1;33m-\u001b[0m\u001b[1;36m1\u001b[0m\u001b[1;33m]\u001b[0m\u001b[1;33m\u001b[0m\u001b[0m\n\u001b[0;32m      5\u001b[0m \u001b[1;32mprint\u001b[0m \u001b[0mymax\u001b[0m\u001b[1;33m,\u001b[0m \u001b[0mfreqs\u001b[0m\u001b[1;33m[\u001b[0m\u001b[0mymax\u001b[0m\u001b[1;33m]\u001b[0m\u001b[1;33m\u001b[0m\u001b[0m\n",
        "\u001b[1;31mNameError\u001b[0m: name 'im6y' is not defined"
       ]
      }
     ],
     "prompt_number": 16
    },
    {
     "cell_type": "code",
     "collapsed": false,
     "input": [
      "fit = opt.curve_fit(sinfit, im6x, im6y, p0=[ptp(im6y)/2, 0.0, freqs[ymax], mean(im6y)])"
     ],
     "language": "python",
     "metadata": {},
     "outputs": [],
     "prompt_number": 95
    },
    {
     "cell_type": "code",
     "collapsed": false,
     "input": [
      "fit"
     ],
     "language": "python",
     "metadata": {},
     "outputs": [
      {
       "metadata": {},
       "output_type": "pyout",
       "prompt_number": 96,
       "text": [
        "(array([  3.48091896e-01,   1.31489728e+00,   3.14289796e+00,\n",
        "         1.50845691e+04]),\n",
        " array([[  2.65129942e+00,   8.47862999e-02,   3.04949672e-03,\n",
        "         -1.32245887e-02],\n",
        "       [  8.47862999e-02,   8.87314839e+01,   2.46170599e+00,\n",
        "          2.46104173e-01],\n",
        "       [  3.04949672e-03,   2.46170599e+00,   9.09254678e-02,\n",
        "          9.04148946e-03],\n",
        "       [ -1.32245887e-02,   2.46104173e-01,   9.04148946e-03,\n",
        "          1.33268123e+00]]))"
       ]
      }
     ],
     "prompt_number": 96
    },
    {
     "cell_type": "code",
     "collapsed": false,
     "input": [
      "figure(3)\n",
      "clf()\n",
      "#plot(im6x, im6y)\n",
      "plot(im6x, sinfit(im6x, *fit[0]))"
     ],
     "language": "python",
     "metadata": {},
     "outputs": [
      {
       "metadata": {},
       "output_type": "pyout",
       "prompt_number": 100,
       "text": [
        "[<matplotlib.lines.Line2D at 0x54a2050>]"
       ]
      }
     ],
     "prompt_number": 100
    },
    {
     "cell_type": "code",
     "collapsed": false,
     "input": [
      "clf()\n",
      "xx = linspace(0,536)\n",
      "yy = asin("
     ],
     "language": "python",
     "metadata": {},
     "outputs": [
      {
       "ename": "TypeError",
       "evalue": "linspace() takes at least 2 arguments (1 given)",
       "output_type": "pyerr",
       "traceback": [
        "\u001b[1;31m---------------------------------------------------------------------------\u001b[0m\n\u001b[1;31mTypeError\u001b[0m                                 Traceback (most recent call last)",
        "\u001b[1;32m<ipython-input-67-bc0144f9aedd>\u001b[0m in \u001b[0;36m<module>\u001b[1;34m()\u001b[0m\n\u001b[0;32m      1\u001b[0m \u001b[0mclf\u001b[0m\u001b[1;33m(\u001b[0m\u001b[1;33m)\u001b[0m\u001b[1;33m\u001b[0m\u001b[0m\n\u001b[1;32m----> 2\u001b[1;33m \u001b[0mxx\u001b[0m \u001b[1;33m=\u001b[0m \u001b[0mlinspace\u001b[0m\u001b[1;33m(\u001b[0m\u001b[1;36m536\u001b[0m\u001b[1;33m)\u001b[0m\u001b[1;33m\u001b[0m\u001b[0m\n\u001b[0m",
        "\u001b[1;31mTypeError\u001b[0m: linspace() takes at least 2 arguments (1 given)"
       ]
      },
      {
       "output_type": "stream",
       "stream": "stdout",
       "text": [
        "> \u001b[1;32m<ipython-input-67-bc0144f9aedd>\u001b[0m(2)\u001b[0;36m<module>\u001b[1;34m()\u001b[0m\n",
        "\u001b[1;32m      1 \u001b[1;33m\u001b[0mclf\u001b[0m\u001b[1;33m(\u001b[0m\u001b[1;33m)\u001b[0m\u001b[1;33m\u001b[0m\u001b[0m\n",
        "\u001b[0m\u001b[1;32m----> 2 \u001b[1;33m\u001b[0mxx\u001b[0m \u001b[1;33m=\u001b[0m \u001b[0mlinspace\u001b[0m\u001b[1;33m(\u001b[0m\u001b[1;36m536\u001b[0m\u001b[1;33m)\u001b[0m\u001b[1;33m\u001b[0m\u001b[0m\n",
        "\u001b[0m\n"
       ]
      },
      {
       "name": "stdout",
       "output_type": "stream",
       "stream": "stdout",
       "text": [
        "ipdb> c\n"
       ]
      }
     ],
     "prompt_number": 67
    },
    {
     "cell_type": "code",
     "collapsed": false,
     "input": [],
     "language": "python",
     "metadata": {},
     "outputs": []
    }
   ],
   "metadata": {}
  }
 ]
}