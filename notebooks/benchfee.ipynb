{
 "cells": [
  {
   "cell_type": "code",
   "execution_count": 1,
   "metadata": {
    "collapsed": false
   },
   "outputs": [],
   "source": [
    "# All system imports\n",
    "import logging\n",
    "import os.path\n",
    "import time\n",
    "import numpy as np\n",
    "\n",
    "%matplotlib inline\n",
    "import matplotlib.pyplot as plt\n",
    "\n",
    "plt.rcParams['image.interpolation'] = 'nearest'\n",
    "plt.rcParams['image.origin'] = 'lower'\n",
    "plt.rcParams['image.cmap'] = 'gray'\n"
   ]
  },
  {
   "cell_type": "code",
   "execution_count": 2,
   "metadata": {
    "collapsed": false
   },
   "outputs": [],
   "source": [
    "# Define our identity based on our hostname, connect to the right PCM.\n",
    "\n",
    "hostname = !hostname\n",
    "hostname = os.path.splitext(hostname[0])[0]\n",
    "spectroId = int(hostname[-1])\n",
    "band = hostname[-2]\n",
    "cam = '%s%d' % (band, spectroId)\n",
    "\n",
    "print \"hostname=%s band=%s spectroId=%s\" % (hostname, band, spectroId)\n",
    "\n",
    "import xcuActor.Controllers.PCM as PCM\n",
    "\n",
    "pcm = PCM.PCM(host='pcm-%s' % (cam))\n",
    "pcm.logger.setLevel(logging.INFO)"
   ]
  },
  {
   "cell_type": "code",
   "execution_count": 3,
   "metadata": {
    "collapsed": false
   },
   "outputs": [],
   "source": [
    "import fpga.ccdFuncs as ccdFuncs\n",
    "import fpga.nbFuncs as nbFuncs\n",
    "import testing.ccdProcedures as ccdTests"
   ]
  },
  {
   "cell_type": "code",
   "execution_count": 4,
   "metadata": {
    "collapsed": false
   },
   "outputs": [],
   "source": [
    "# Connect to the FPGA\n",
    "\n",
    "import fpga.ccd as fpgaMod\n",
    "reload(fpgaMod)\n",
    "\n",
    "ccd = fpgaMod.CCD(spectroId=spectroId, dewarId=band, adc18bit=1)\n",
    "ccd.pciReset()\n",
    "\n",
    "print \"FPGA version: 0x%08x\" % ccd.peekWord(0)"
   ]
  },
  {
   "cell_type": "code",
   "execution_count": 5,
   "metadata": {
    "collapsed": false
   },
   "outputs": [],
   "source": [
    "# connect to the FEE\n",
    "\n",
    "import fee.feeControl as feeMod\n",
    "reload(feeMod)\n",
    "\n",
    "pcm.powerOn('fee')\n",
    "time.sleep(3.5)\n",
    "\n",
    "logLevel = 20\n",
    "fee = feeMod.FeeControl(logLevel=logLevel)"
   ]
  },
  {
   "cell_type": "code",
   "execution_count": 6,
   "metadata": {
    "collapsed": false
   },
   "outputs": [],
   "source": [
    "# Fetch serial numbers and temperatures\n",
    "for thing in 'FEE', 'ADC', 'PA0', 'CCD0', 'CCD1':\n",
    "    print \"serial %-5s: %s\" % (thing, fee.doGet('serial',  thing))\n",
    "        \n",
    "print\n",
    "for probe in 'FEE', 'PA', 'ccd0', 'ccd1':\n",
    "    print \"temp   %-5s: %s\" % (probe, fee.sendCommandStr('rt,%s' % (probe)))\n"
   ]
  },
  {
   "cell_type": "code",
   "execution_count": 7,
   "metadata": {
    "collapsed": false
   },
   "outputs": [],
   "source": [
    "feeMod.fee.statusAsCards()"
   ]
  },
  {
   "cell_type": "code",
   "execution_count": 8,
   "metadata": {
    "collapsed": false
   },
   "outputs": [],
   "source": [
    "chans = 'ch0', 'ch1'\n",
    "modes = 'erase', 'expose', 'read', 'wipe', 'idle'\n",
    "\n",
    "for mode in modes:\n",
    "    fee.setMode(mode)\n",
    "    time.sleep(1)\n",
    "    \n",
    "    for chan in chans:\n",
    "        v = fee.sendCommandStr('rb,all,%s' % (chan))\n",
    "        readAll = np.array([float(b) for b in v.split(',')])\n",
    "        v = fee.sendCommandStr('gb,all,%s' % (chan))\n",
    "        getAll = np.array([float(b) for b in v.split(',')])\n",
    "        \n",
    "        offby = np.fabs(getAll-readAll)/getAll\n",
    "                        \n",
    "        print(\"%07s %s get : %s\" % (mode, chan, ' '.join([\"%6.2f\" % (f) for f in getAll])))\n",
    "        print(\"%07s %s read: %s\" % (mode, chan, ' '.join([\"%6.2f\" % (f) for f in readAll])))\n",
    "        print(\"%16s: %s\" % (('BAD' if np.any(offby > 0.02) else 'OK'), \n",
    "                            ' '.join([\"%6.2f\" % (f) for f in offby])))\n",
    "        print\n"
   ]
  },
  {
   "cell_type": "code",
   "execution_count": 9,
   "metadata": {
    "collapsed": false,
    "scrolled": false
   },
   "outputs": [],
   "source": [
    "reload(ccdFuncs)\n",
    "reload(nbFuncs)\n",
    "\n",
    "doSave = True\n",
    "benchTest = True\n",
    "if benchTest:\n",
    "    nrows = 400               # How many rows to read out.\n",
    "    ncols = 400\n",
    "else:\n",
    "    nrows = None\n",
    "    ncols = None\n",
    "    \n",
    "argDict = dict(everyNRows=100)\n",
    "\n",
    "comment = ''\n",
    "\n",
    "doFile = False # '/data/pfs/2016-02-26/PFJA00737691.fits'\n",
    "print \"doFile=%s\" % (doFile,)\n",
    "if doFile:\n",
    "    im = fitsio.read(doFile)\n",
    "    files = [doFile]\n",
    "else:\n",
    "    im, files = ccdFuncs.fullExposure('bias', ccd, expTime=0.0,\n",
    "                                      nrows=nrows, ncols=ncols, \n",
    "                                      doSave=doSave,\n",
    "                                      comment=comment)\n",
    "nrows, ncols = im.shape\n",
    "ncols /= 8\n",
    "        \n",
    "print files[0]\n",
    "\n",
    "figWidth = 12\n",
    "\n",
    "selectRows = slice(0,None)\n",
    "selectCols = slice(0,None) # None # slice(20,ncols)\n",
    "pcols = np.arange(50,ncols-2)    # Which cols to plot\n",
    "prow = nrows/2\n",
    "prows = [2,prow,nrows-1]       # which rows to plot\n",
    "statCols = np.arange(20,ncols-20) # Which cols to use for stats\n",
    "\n",
    "if selectRows is not None:\n",
    "    im = im[selectRows]\n",
    "if selectCols is not None:\n",
    "    im = im[:,selectCols]\n",
    "    \n",
    "# im = im.astype('i4')\n",
    "\n",
    "print \"statCols: %d %d\" % (statCols[0], statCols[-1])\n",
    "means,devs = nbFuncs.ampStats(im, ccd=ccd, cols=statCols)\n",
    "print \"means:\", nbFuncs.fmtArr(means, format=\"%0.3f\")\n",
    "print \"devs: \", nbFuncs.fmtArr(devs, format=\"%0.3f\")\n",
    "    \n",
    "if len(files) > 0:\n",
    "    path = files[0]\n",
    "    imName = '/'.join(path.split('/')[-2:])\n",
    "    print \"file: %s\" % (path)\n",
    "\n",
    "# plot one or more rows across the entire image\n",
    "nbFuncs.plotRows(im, prows, imName=imName, figWidth=figWidth, pixRange=200 if siggenAmp is not None else None)\n",
    "\n",
    "# plot one row for each the amps\n",
    "nbFuncs.plotAmps(im, row=prow, cols=pcols, \n",
    "                 plotOffset=10, fig=None, figWidth=figWidth)\n",
    "\n",
    "# show a grid of histograms.\n",
    "hists = nbFuncs.ampHistGrid(im, ccd, cols=statCols, histRange=20, figWidth=figWidth)\n",
    "\n",
    "# show a grid of raw amp images.\n",
    "nbFuncs.rawAmpGrid(im, ccd, cols=slice(50,None), figWidth=figWidth, showFfts=True)\n",
    "\n",
    "#fig.colorbar(pp)\n",
    "#plt.tight_layout()"
   ]
  },
  {
   "cell_type": "code",
   "execution_count": null,
   "metadata": {
    "collapsed": true
   },
   "outputs": [],
   "source": []
  }
 ],
 "metadata": {
  "kernelspec": {
   "display_name": "Python 2",
   "language": "python",
   "name": "python2"
  },
  "language_info": {
   "codemirror_mode": {
    "name": "ipython",
    "version": 2
   },
   "file_extension": ".py",
   "mimetype": "text/x-python",
   "name": "python",
   "nbconvert_exporter": "python",
   "pygments_lexer": "ipython2",
   "version": "2.7.10"
  }
 },
 "nbformat": 4,
 "nbformat_minor": 0
}
